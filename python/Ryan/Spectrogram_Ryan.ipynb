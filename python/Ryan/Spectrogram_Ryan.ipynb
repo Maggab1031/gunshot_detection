{
 "cells": [
  {
   "cell_type": "code",
   "execution_count": 21,
   "metadata": {},
   "outputs": [],
   "source": [
    "# File Directory \n",
    "import glob\n",
    "import os\n",
    "from os.path import isdir, join\n",
    "from pathlib import Path\n",
    "\n",
    "# Math\n",
    "import numpy as np\n",
    "from scipy.fftpack import fft\n",
    "from scipy import signal\n",
    "import librosa\n",
    "\n",
    "# Dimension Reduction\n",
    "from sklearn.decomposition import PCA\n",
    "\n",
    "# Visualization\n",
    "import matplotlib.pyplot as plt\n",
    "import seaborn as sns\n",
    "import IPython.display as ipd\n",
    "import librosa.display\n",
    "\n",
    "# Data Pre-processing\n",
    "import pandas as pd\n",
    "from sklearn.model_selection import KFold\n",
    "\n",
    "# Deep Learning\n",
    "import tensorflow as tf\n",
    "from tensorflow.keras import Input, layers, backend as K\n",
    "from tensorflow.keras.models import load_model, Sequential\n",
    "from tensorflow.keras.layers import Conv2D, MaxPooling2D, Dense, Dropout, Activation\n",
    "from tensorflow.keras.layers import BatchNormalization, Flatten, multiply\n",
    "from tensorflow.keras.optimizers import Adam\n",
    "from tensorflow.keras.callbacks import EarlyStopping, ModelCheckpoint, ReduceLROnPlateau\n",
    "import cv2\n",
    "import re\n",
    "\n",
    "# Configuration\n",
    "#py.init_notebook_mode(connected=True)\n",
    "\n",
    "%matplotlib inline"
   ]
  },
  {
   "cell_type": "code",
   "execution_count": null,
   "metadata": {},
   "outputs": [],
   "source": []
  },
  {
   "cell_type": "code",
   "execution_count": null,
   "metadata": {},
   "outputs": [],
   "source": [
    "samples = np.load(\"samples.npy\")\n",
    "labels = np.load(\"labels.npy\")"
   ]
  },
  {
   "cell_type": "code",
   "execution_count": null,
   "metadata": {},
   "outputs": [],
   "source": [
    "def show(spectrogram):\n",
    "    plt.imshow(spectrogram)\n",
    "    plt.show()"
   ]
  },
  {
   "cell_type": "code",
   "execution_count": null,
   "metadata": {},
   "outputs": [],
   "source": [
    "#Make spectrograms\n",
    "def make_spectrogram(y,sr):\n",
    "    return np.array(librosa.feature.melspectrogram(y=y, sr=sr))"
   ]
  },
  {
   "cell_type": "code",
   "execution_count": 32,
   "metadata": {},
   "outputs": [],
   "source": [
    "def auc(y_true, y_pred):\n",
    "    auc = tf.metrics.auc(y_true, y_pred)[1]\n",
    "    K.get_session().run(tf.local_variables_initializer())\n",
    "    return auc\n",
    "\n",
    "number_of_epochs = 50\n",
    "batch_size = 32\n",
    "optimizer = Adam(lr=0.001, decay=0.001 / 100)\n",
    "input_tensor = Input(shape=(128, 64, 1))\n",
    "window = (4, 4)\n",
    "\n",
    "\"\"\" Step 2: Create the input and hidden layers \"\"\"\n",
    "\n",
    "# First Layer\n",
    "x = Conv2D(32, window, padding=\"same\", activation=\"relu\")(input_tensor)\n",
    "x = BatchNormalization(axis=-1)(x)\n",
    "x = MaxPooling2D(pool_size=(2, 1))(x)\n",
    "x = Dropout(0.25)(x)\n",
    "\n",
    "# Second Layer: (CONV => RELU) * 2 => POOL\n",
    "x = Conv2D(64, window, activation=\"relu\", padding=\"same\")(x)\n",
    "x = BatchNormalization(axis=-1)(x)\n",
    "x = Conv2D(64, window, activation=\"relu\", padding=\"same\")(x)\n",
    "x = BatchNormalization(axis=-1)(x)\n",
    "x = MaxPooling2D(pool_size=(2, 2))(x)\n",
    "x = Dropout(0.25)(x)\n",
    "\n",
    "# Third Layer: (CONV => RELU) * 2 => POOL\n",
    "x = Conv2D(128, window, activation=\"relu\", padding=\"same\")(x)\n",
    "x = BatchNormalization(axis=-1)(x)\n",
    "x = Conv2D(128, window, activation=\"relu\", padding=\"same\")(x)\n",
    "x = BatchNormalization(axis=-1)(x)\n",
    "x = MaxPooling2D(pool_size=(2, 2))(x)\n",
    "x = Dropout(0.25)(x)\n",
    "\n",
    "# Fourth Layer: (CONV => RELU) * 2 => POOL\n",
    "x = Conv2D(256, window, activation=\"relu\", padding=\"same\")(x)\n",
    "x = BatchNormalization(axis=-1)(x)\n",
    "x = Conv2D(256, window, activation=\"relu\", padding=\"same\")(x)\n",
    "x = BatchNormalization(axis=-1)(x)\n",
    "x = MaxPooling2D(pool_size=(2, 2))(x)\n",
    "x = Dropout(0.25)(x)\n",
    "\n",
    "\n",
    "\"\"\" Step 3: Flatten the layers \"\"\"\n",
    "\n",
    "x = Flatten()(x)\n",
    "\n",
    "\"\"\" Step 4: Fully-connect the layers \"\"\"\n",
    "\n",
    "x = Dense(1024, activation=\"relu\")(x)\n",
    "x = BatchNormalization()(x)\n",
    "x = Dropout(0.5)(x)  # Increasing dropout here to prevent overfitting\n",
    "\n",
    "#Attention layer\n",
    "attention_probs = Dense(1024, activation='softmax', name='attention_vec')(x)\n",
    "attention_probs = Dropout(0.5)(attention_probs)\n",
    "attention_mul = multiply([x, attention_probs], name='attention_mul')\n",
    "attention_mul = Dense(256)(attention_mul)\n",
    "\n",
    "'''x = Dense(256, activation=\"relu\")(attention_mul)\n",
    "x = BatchNormalization()(x)\n",
    "x = Dropout(0.5)(x)  # Increasing dropout here to prevent overfitting\n",
    "'''\n",
    "\n",
    "output_tensor = layers.Dense(2, activation=\"softmax\")(attention_mul)\n",
    "\n",
    "\"\"\" Step 5: Compile the model \"\"\"\n",
    "model = tf.keras.Model(input_tensor, output_tensor)\n",
    "model.compile(optimizer=optimizer, loss=\"binary_crossentropy\", metrics=[auc, \"accuracy\"])\n"
   ]
  },
  {
   "cell_type": "code",
   "execution_count": 33,
   "metadata": {},
   "outputs": [
    {
     "name": "stdout",
     "output_type": "stream",
     "text": [
      "__________________________________________________________________________________________________\n",
      "Layer (type)                    Output Shape         Param #     Connected to                     \n",
      "==================================================================================================\n",
      "input_14 (InputLayer)           (None, 128, 64, 1)   0                                            \n",
      "__________________________________________________________________________________________________\n",
      "conv2d_85 (Conv2D)              (None, 128, 64, 32)  544         input_14[0][0]                   \n",
      "__________________________________________________________________________________________________\n",
      "batch_normalization_v1_100 (Bat (None, 128, 64, 32)  128         conv2d_85[0][0]                  \n",
      "__________________________________________________________________________________________________\n",
      "max_pooling2d_48 (MaxPooling2D) (None, 64, 64, 32)   0           batch_normalization_v1_100[0][0] \n",
      "__________________________________________________________________________________________________\n",
      "dropout_67 (Dropout)            (None, 64, 64, 32)   0           max_pooling2d_48[0][0]           \n",
      "__________________________________________________________________________________________________\n",
      "conv2d_86 (Conv2D)              (None, 64, 64, 64)   32832       dropout_67[0][0]                 \n",
      "__________________________________________________________________________________________________\n",
      "batch_normalization_v1_101 (Bat (None, 64, 64, 64)   256         conv2d_86[0][0]                  \n",
      "__________________________________________________________________________________________________\n",
      "conv2d_87 (Conv2D)              (None, 64, 64, 64)   65600       batch_normalization_v1_101[0][0] \n",
      "__________________________________________________________________________________________________\n",
      "batch_normalization_v1_102 (Bat (None, 64, 64, 64)   256         conv2d_87[0][0]                  \n",
      "__________________________________________________________________________________________________\n",
      "max_pooling2d_49 (MaxPooling2D) (None, 32, 32, 64)   0           batch_normalization_v1_102[0][0] \n",
      "__________________________________________________________________________________________________\n",
      "dropout_68 (Dropout)            (None, 32, 32, 64)   0           max_pooling2d_49[0][0]           \n",
      "__________________________________________________________________________________________________\n",
      "conv2d_88 (Conv2D)              (None, 32, 32, 128)  131200      dropout_68[0][0]                 \n",
      "__________________________________________________________________________________________________\n",
      "batch_normalization_v1_103 (Bat (None, 32, 32, 128)  512         conv2d_88[0][0]                  \n",
      "__________________________________________________________________________________________________\n",
      "conv2d_89 (Conv2D)              (None, 32, 32, 128)  262272      batch_normalization_v1_103[0][0] \n",
      "__________________________________________________________________________________________________\n",
      "batch_normalization_v1_104 (Bat (None, 32, 32, 128)  512         conv2d_89[0][0]                  \n",
      "__________________________________________________________________________________________________\n",
      "max_pooling2d_50 (MaxPooling2D) (None, 16, 16, 128)  0           batch_normalization_v1_104[0][0] \n",
      "__________________________________________________________________________________________________\n",
      "dropout_69 (Dropout)            (None, 16, 16, 128)  0           max_pooling2d_50[0][0]           \n",
      "__________________________________________________________________________________________________\n",
      "conv2d_90 (Conv2D)              (None, 16, 16, 256)  524544      dropout_69[0][0]                 \n",
      "__________________________________________________________________________________________________\n",
      "batch_normalization_v1_105 (Bat (None, 16, 16, 256)  1024        conv2d_90[0][0]                  \n",
      "__________________________________________________________________________________________________\n",
      "conv2d_91 (Conv2D)              (None, 16, 16, 256)  1048832     batch_normalization_v1_105[0][0] \n",
      "__________________________________________________________________________________________________\n",
      "batch_normalization_v1_106 (Bat (None, 16, 16, 256)  1024        conv2d_91[0][0]                  \n",
      "__________________________________________________________________________________________________\n",
      "max_pooling2d_51 (MaxPooling2D) (None, 8, 8, 256)    0           batch_normalization_v1_106[0][0] \n",
      "__________________________________________________________________________________________________\n",
      "dropout_70 (Dropout)            (None, 8, 8, 256)    0           max_pooling2d_51[0][0]           \n",
      "__________________________________________________________________________________________________\n",
      "flatten_12 (Flatten)            (None, 16384)        0           dropout_70[0][0]                 \n",
      "__________________________________________________________________________________________________\n",
      "dense_24 (Dense)                (None, 1024)         16778240    flatten_12[0][0]                 \n",
      "__________________________________________________________________________________________________\n",
      "batch_normalization_v1_107 (Bat (None, 1024)         4096        dense_24[0][0]                   \n",
      "__________________________________________________________________________________________________\n",
      "dropout_71 (Dropout)            (None, 1024)         0           batch_normalization_v1_107[0][0] \n",
      "__________________________________________________________________________________________________\n",
      "attention_vec (Dense)           (None, 1024)         1049600     dropout_71[0][0]                 \n",
      "__________________________________________________________________________________________________\n",
      "dropout_72 (Dropout)            (None, 1024)         0           attention_vec[0][0]              \n",
      "__________________________________________________________________________________________________\n",
      "attention_mul (Multiply)        (None, 1024)         0           dropout_71[0][0]                 \n",
      "                                                                 dropout_72[0][0]                 \n",
      "__________________________________________________________________________________________________\n",
      "dense_25 (Dense)                (None, 256)          262400      attention_mul[0][0]              \n",
      "__________________________________________________________________________________________________\n",
      "dense_26 (Dense)                (None, 2)            514         dense_25[0][0]                   \n",
      "==================================================================================================\n",
      "Total params: 20,164,386\n",
      "Trainable params: 20,160,482\n",
      "Non-trainable params: 3,904\n",
      "__________________________________________________________________________________________________\n"
     ]
    }
   ],
   "source": [
    "model.summary()"
   ]
  },
  {
   "cell_type": "code",
   "execution_count": null,
   "metadata": {},
   "outputs": [],
   "source": [
    "model.load_weights(\"model_2d_4l.h5\")"
   ]
  },
  {
   "cell_type": "code",
   "execution_count": null,
   "metadata": {},
   "outputs": [],
   "source": [
    "from sklearn.preprocessing import LabelBinarizer"
   ]
  },
  {
   "cell_type": "code",
   "execution_count": null,
   "metadata": {},
   "outputs": [],
   "source": [
    "labels = np.load(\"labels.npy\")"
   ]
  },
  {
   "cell_type": "code",
   "execution_count": null,
   "metadata": {},
   "outputs": [],
   "source": [
    "urban = ['air_conditioner', 'car_horn', 'children_playing', 'dog_bark', 'other',\n",
    "       'drilling', 'engine_idling', 'jackhammer', 'siren', 'street_music']\n",
    "for i in range(len(labels)):\n",
    "    if labels[i] in urban:\n",
    "        labels[i] = 'other'\n",
    "\n",
    "\n",
    "lb = LabelBinarizer()\n",
    "labels = lb.fit_transform(labels)"
   ]
  },
  {
   "cell_type": "code",
   "execution_count": null,
   "metadata": {},
   "outputs": [],
   "source": []
  },
  {
   "cell_type": "code",
   "execution_count": null,
   "metadata": {},
   "outputs": [],
   "source": []
  },
  {
   "cell_type": "markdown",
   "metadata": {},
   "source": [
    "## Validation"
   ]
  },
  {
   "cell_type": "code",
   "execution_count": null,
   "metadata": {},
   "outputs": [],
   "source": [
    "def to_spec(data):\n",
    "    a = make_spectrogram(data,22050)\n",
    "    plt.interactive(False)\n",
    "    fig = plt.figure(figsize=[0.72,0.72])\n",
    "    ax = fig.add_subplot(111)\n",
    "    ax.axes.get_xaxis().set_visible(False)\n",
    "    ax.axes.get_yaxis().set_visible(False)\n",
    "    ax.set_frame_on(False)\n",
    "    librosa.display.specshow(librosa.power_to_db(a, ref=np.max))\n",
    "    plt.savefig('temp.png', dpi=400, bbox_inches='tight',pad_inches=0)\n",
    "    im = cv2.imread('temp.png')\n",
    "    im = cv2.resize(im, (192, 192))\n",
    "\n",
    "    plt.close()    \n",
    "    fig.clf()\n",
    "    plt.close(fig)\n",
    "    plt.close('all')\n",
    "    return im"
   ]
  },
  {
   "cell_type": "code",
   "execution_count": null,
   "metadata": {},
   "outputs": [],
   "source": [
    "def show_wav(data):\n",
    "    plt.figure(figsize=(12, 4))\n",
    "    librosa.display.waveplot(data, sr = 22050)"
   ]
  },
  {
   "cell_type": "code",
   "execution_count": null,
   "metadata": {},
   "outputs": [],
   "source": [
    "mypath = \"C:\\\\Users\\\\hosle\\\\Downloads\\\\shotgun-old_school-RA_The_Sun_God-1129942741.wav\"\n",
    "#mypath = \"C:\\\\Users\\\\hosle\\\\Documents\\\\_REU2019\\\\extra\\\\260600.wav\"\n",
    "\n",
    "fire, sr = librosa.load(mypath, res_type='kaiser_fast')"
   ]
  },
  {
   "cell_type": "code",
   "execution_count": null,
   "metadata": {},
   "outputs": [],
   "source": [
    "validation = []\n",
    "if (fire.size <= 44100):\n",
    "    sample_slice = np.zeros(44100)\n",
    "    sample_slice[0:fire.size] = fire\n",
    "    validation.append(sample_slice)\n",
    "\n",
    "for i in range(0, fire.size - 44100, 44100):\n",
    "    sample_slice = fire[i : i + 44100]\n",
    "    validation.append(sample_slice)\n",
    "    \n",
    "validation = np.array(validation)\n",
    "\n",
    "val_im = []\n",
    "for i in range(len(validation)):\n",
    "    val_im.append(to_spec(validation[i]))\n",
    "val_im = np.array(val_im).astype('float32')\n",
    "val_im /= 255\n",
    "\n",
    "val_pred = model.predict(val_im)\n",
    "val_pred1 = lb.inverse_transform(val_pred)\n",
    "print(len(val_pred1))\n",
    "print(\"gun_shot\", np.argwhere(val_pred1 == 'gun_shot').T)\n",
    "print(val_pred1)"
   ]
  },
  {
   "cell_type": "code",
   "execution_count": null,
   "metadata": {
    "scrolled": false
   },
   "outputs": [],
   "source": [
    "i = 0\n",
    "print(np.round(val_pred[i, :], 3))\n",
    "print(val_pred1[i])\n",
    "show_wav(validation [i])\n",
    "\n",
    "ipd.Audio(validation [i], rate=22050)"
   ]
  },
  {
   "cell_type": "code",
   "execution_count": null,
   "metadata": {},
   "outputs": [],
   "source": []
  },
  {
   "cell_type": "code",
   "execution_count": null,
   "metadata": {},
   "outputs": [],
   "source": []
  },
  {
   "cell_type": "code",
   "execution_count": 6,
   "metadata": {},
   "outputs": [
    {
     "name": "stdout",
     "output_type": "stream",
     "text": [
      "True\n"
     ]
    }
   ],
   "source": [
    "from shapely.geometry import Point\n",
    "from shapely.geometry.polygon import Polygon\n",
    "\n",
    "point = Point(0.5, 0.5)\n",
    "polygon = Polygon([(0, 0), (0, 1), (1, 1), (1, 0)])\n",
    "print(polygon.contains(point))"
   ]
  },
  {
   "cell_type": "code",
   "execution_count": null,
   "metadata": {},
   "outputs": [],
   "source": []
  }
 ],
 "metadata": {
  "kernelspec": {
   "display_name": "Python 3",
   "language": "python",
   "name": "python3"
  },
  "language_info": {
   "codemirror_mode": {
    "name": "ipython",
    "version": 3
   },
   "file_extension": ".py",
   "mimetype": "text/x-python",
   "name": "python",
   "nbconvert_exporter": "python",
   "pygments_lexer": "ipython3",
   "version": "3.7.3"
  }
 },
 "nbformat": 4,
 "nbformat_minor": 2
}

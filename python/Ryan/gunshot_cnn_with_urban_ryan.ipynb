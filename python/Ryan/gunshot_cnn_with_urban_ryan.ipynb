{
 "cells": [
  {
   "cell_type": "code",
   "execution_count": 1,
   "metadata": {},
   "outputs": [],
   "source": [
    "# File Directory \n",
    "import glob\n",
    "import os\n",
    "from os.path import isdir, join\n",
    "from pathlib import Path\n",
    "\n",
    "# Math\n",
    "import numpy as np\n",
    "from scipy.fftpack import fft\n",
    "from scipy import signal\n",
    "import librosa\n",
    "\n",
    "# Dimension Reduction\n",
    "from sklearn.decomposition import PCA\n",
    "\n",
    "# Visualization\n",
    "import matplotlib.pyplot as plt\n",
    "import seaborn as sns\n",
    "import IPython.display as ipd\n",
    "import librosa.display\n",
    "\n",
    "# Data Pre-processing\n",
    "import pandas as pd\n",
    "from sklearn.model_selection import KFold\n",
    "\n",
    "# Deep Learning\n",
    "import tensorflow as tf\n",
    "import tensorflow.keras as keras\n",
    "from tensorflow.keras import Input, layers, optimizers, backend as K\n",
    "from tensorflow.keras.models import load_model\n",
    "from tensorflow.keras.layers import Dense, Dropout\n",
    "from tensorflow.keras.callbacks import EarlyStopping, ModelCheckpoint\n",
    "import cv2\n",
    "import re\n",
    "from sklearn.preprocessing import LabelBinarizer\n",
    "# Configuration\n",
    "#py.init_notebook_mode(connected=True)\n",
    "\n",
    "%matplotlib inline"
   ]
  },
  {
   "cell_type": "code",
   "execution_count": 2,
   "metadata": {},
   "outputs": [],
   "source": [
    "def show(data):\n",
    "    plt.figure(figsize=(12, 4))\n",
    "    librosa.display.waveplot(data, sr = 22050)"
   ]
  },
  {
   "cell_type": "markdown",
   "metadata": {},
   "source": [
    "## Data extraction"
   ]
  },
  {
   "cell_type": "code",
   "execution_count": null,
   "metadata": {},
   "outputs": [],
   "source": [
    "samples=[]\n",
    "labels = []\n",
    "gunshot_frequency_threshold = 0.25\n",
    "sample_rate = 22050\n",
    "sample_rate_per_two_seconds = 44100\n",
    "input_shape = (sample_rate_per_two_seconds, 1)\n",
    "base_dir = \"C:\\\\Users\\\\hosle\\\\Documents\\\\_REU2019\\\\_project\\\\\"\n",
    "data_dir = base_dir + \"REU_Samples_and_Labels\\\\\"\n",
    "sound_data_dir = data_dir + \"Samples\\\\\""
   ]
  },
  {
   "cell_type": "code",
   "execution_count": null,
   "metadata": {},
   "outputs": [],
   "source": [
    "sound_types = pd.read_csv(data_dir + \"labels.csv\")"
   ]
  },
  {
   "cell_type": "code",
   "execution_count": null,
   "metadata": {},
   "outputs": [],
   "source": [
    "np.unique(sound_types.Class)"
   ]
  },
  {
   "cell_type": "code",
   "execution_count": null,
   "metadata": {
    "scrolled": true
   },
   "outputs": [],
   "source": [
    "print(\"...Parsing sound data...\")\n",
    "sound_file_id = 0\n",
    "sound_file_names = []\n",
    "count = 0\n",
    "\n",
    "for file in os.listdir(sound_data_dir):\n",
    "    if (count % 100 == 0):\n",
    "        print(count)\n",
    "        \n",
    "    count += 1\n",
    "    if file.endswith(\".wav\"):\n",
    "        # Adding 2 second-long samples to the list of samples\n",
    "        sound_file_id = int(re.search(r'\\d+', file).group())\n",
    "        sample, sample_rate = librosa.load(sound_data_dir + file, res_type='kaiser_fast')\n",
    "        prescribed_label = sound_types.loc[sound_types[\"ID\"] == sound_file_id, \"Class\"].values[0]\n",
    "        label = prescribed_label\n",
    "\n",
    "        if len(sample) <= sample_rate_per_two_seconds:\n",
    "            number_of_missing_hertz = sample_rate_per_two_seconds - len(sample)\n",
    "            padded_sample = np.array(sample.tolist() + [0 for i in range(number_of_missing_hertz)])\n",
    "                \n",
    "            samples.append(padded_sample)\n",
    "            labels.append(label)\n",
    "            sound_file_names.append(file)\n",
    "        else:\n",
    "            for i in range(0, sample.size - sample_rate_per_two_seconds, sample_rate_per_two_seconds):\n",
    "                sample_slice = sample[i : i + sample_rate_per_two_seconds]\n",
    "\n",
    "                samples.append(sample_slice)\n",
    "                labels.append(label)\n",
    "                sound_file_names.append(file)\n",
    "\n",
    "print(\"The number of samples available for training is currently \" + str(len(samples)) + '.')\n",
    "print(\"The number of labels available for training is currently \" + str(len(labels)) + '.')"
   ]
  },
  {
   "cell_type": "code",
   "execution_count": null,
   "metadata": {},
   "outputs": [],
   "source": [
    "labels"
   ]
  },
  {
   "cell_type": "code",
   "execution_count": null,
   "metadata": {},
   "outputs": [],
   "source": [
    "p = 7000\n",
    "show(samples[p])\n",
    "print(max(abs(samples[p])))\n",
    "print(labels[p])\n",
    "ipd.Audio(samples[p], rate=22050)\n"
   ]
  },
  {
   "cell_type": "code",
   "execution_count": null,
   "metadata": {},
   "outputs": [],
   "source": [
    "np.unique(labels)"
   ]
  },
  {
   "cell_type": "code",
   "execution_count": null,
   "metadata": {},
   "outputs": [],
   "source": [
    "np.save(\"samples.npy\", samples)\n",
    "np.save(\"labels.npy\", labels)\n",
    "np.save(\"file_names.npy\", sound_file_names)"
   ]
  },
  {
   "cell_type": "code",
   "execution_count": null,
   "metadata": {},
   "outputs": [],
   "source": [
    "samples = list(np.load(\"samples.npy\"))\n",
    "labels = list(np.load(\"labels.npy\"))\n",
    "sound_file_names = np.load(\"file_names.npy\")"
   ]
  },
  {
   "cell_type": "code",
   "execution_count": null,
   "metadata": {},
   "outputs": [],
   "source": [
    "old = len(samples)"
   ]
  },
  {
   "cell_type": "markdown",
   "metadata": {},
   "source": [
    "## Add other data"
   ]
  },
  {
   "cell_type": "code",
   "execution_count": null,
   "metadata": {},
   "outputs": [],
   "source": [
    "sound_data_dir = \"C:\\\\Users\\\\hosle\\\\Documents\\\\_REU2019\\\\_project\\\\other\\\\\""
   ]
  },
  {
   "cell_type": "code",
   "execution_count": null,
   "metadata": {},
   "outputs": [],
   "source": [
    "count = 0\n",
    "for file in os.listdir(sound_data_dir):\n",
    "    if (count % 100 == 0):\n",
    "        print(count)\n",
    "        \n",
    "    count += 1\n",
    "    # Adding 2 second-long samples to the list of samples\n",
    "    sample, sample_rate = librosa.load(sound_data_dir + file, res_type='kaiser_fast')\n",
    "    label = \"other\"\n",
    "\n",
    "    if len(sample) <= sample_rate_per_two_seconds:\n",
    "        number_of_missing_hertz = sample_rate_per_two_seconds - len(sample)\n",
    "        padded_sample = np.array(sample.tolist() + [0 for i in range(number_of_missing_hertz)])\n",
    "\n",
    "        samples.append(padded_sample)\n",
    "        labels.append(label)\n",
    "        #sound_file_names.append(file)\n",
    "    else:\n",
    "        for i in range(0, sample.size - sample_rate_per_two_seconds, sample_rate_per_two_seconds):\n",
    "            sample_slice = sample[i : i + sample_rate_per_two_seconds]\n",
    "\n",
    "            samples.append(sample_slice)\n",
    "            labels.append(label)\n",
    "            #sound_file_names.append(file)\n"
   ]
  },
  {
   "cell_type": "code",
   "execution_count": null,
   "metadata": {},
   "outputs": [],
   "source": [
    "len(samples) - old"
   ]
  },
  {
   "cell_type": "code",
   "execution_count": null,
   "metadata": {},
   "outputs": [],
   "source": [
    "np.save(\"samples.npy\", samples)\n",
    "np.save(\"labels.npy\", labels)"
   ]
  },
  {
   "cell_type": "code",
   "execution_count": null,
   "metadata": {},
   "outputs": [],
   "source": [
    "samples = np.load(\"samples.npy\")\n",
    "labels = np.load(\"labels.npy\")"
   ]
  },
  {
   "cell_type": "code",
   "execution_count": null,
   "metadata": {},
   "outputs": [],
   "source": [
    "np.unique(labels)"
   ]
  },
  {
   "cell_type": "code",
   "execution_count": null,
   "metadata": {},
   "outputs": [],
   "source": [
    "labels1 = labels[labels != 'other']"
   ]
  },
  {
   "cell_type": "code",
   "execution_count": null,
   "metadata": {},
   "outputs": [],
   "source": [
    "urban = ['air_conditioner', 'car_horn', 'children_playing', 'dog_bark',\n",
    "       'drilling', 'engine_idling', 'jackhammer', 'siren', 'street_music']"
   ]
  },
  {
   "cell_type": "code",
   "execution_count": null,
   "metadata": {},
   "outputs": [],
   "source": [
    "for i in range(len(labels1)):\n",
    "    if labels1[i] in urban:\n",
    "        labels1[i] = 'urban'"
   ]
  },
  {
   "cell_type": "code",
   "execution_count": null,
   "metadata": {},
   "outputs": [],
   "source": [
    "np.unique(labels1)"
   ]
  },
  {
   "cell_type": "markdown",
   "metadata": {},
   "source": [
    "## Augment data"
   ]
  },
  {
   "cell_type": "code",
   "execution_count": null,
   "metadata": {},
   "outputs": [],
   "source": [
    "'''label_csv = \"C:\\\\Users\\\\hosle\\\\Documents\\\\_REU2019\\\\_project\\\\REU_Samples_and_Labels\\\\labels.csv\"\n",
    "sound_directory = \"C:\\\\Users\\\\hosle\\\\Documents\\\\_REU2019\\\\_project\\\\REU_Samples_and_Labels\\\\Samples\\\\\"\n",
    "sound_types = pd.read_csv(label_csv)\n",
    "bg_files = os.listdir(sound_directory)\n",
    "print(len(bg_files))\n",
    "\n",
    "for file in os.listdir(sound_directory):\n",
    "    if file.endswith(\".wav\"):\n",
    "        sound_file_id = int(re.search(r'\\d+', file).group())\n",
    "        prescribed_label = sound_types.loc[sound_types[\"ID\"] == sound_file_id, \"Class\"].values[0]\n",
    "        \n",
    "        if prescribed_label == \"gun_shot\":\n",
    "            bg_files.remove(file)\n",
    "            \n",
    "print(len(bg_files))'''"
   ]
  },
  {
   "cell_type": "code",
   "execution_count": null,
   "metadata": {},
   "outputs": [],
   "source": [
    "def time_shift(wav):\n",
    "    start_ = int(np.random.uniform(-7000, 7000))\n",
    "    if start_ >= 0:\n",
    "        wav_time_shift = np.r_[wav[start_:], np.random.uniform(-0.001, 0.001, start_)]\n",
    "    else:\n",
    "        wav_time_shift = np.r_[np.random.uniform(-0.001, 0.001, -start_), wav[:start_]]\n",
    "    return wav_time_shift\n",
    "    \n",
    "def change_pitch(wav, sample_rate):\n",
    "    magnitude = (np.random.uniform(-0.1, 0.1))\n",
    "    wav_pitch_change = librosa.effects.pitch_shift(wav, sample_rate, magnitude)\n",
    "    return wav_pitch_change\n",
    "    \n",
    "def speed_change(wav):\n",
    "    speed_rate = np.random.uniform(0.7, 1.3)\n",
    "    wav_speed_tune = cv2.resize(wav, (1, int(len(wav) * speed_rate))).squeeze()\n",
    "    \n",
    "    if len(wav_speed_tune) < len(wav):\n",
    "        pad_len = len(wav) - len(wav_speed_tune)\n",
    "        wav_speed_tune = np.r_[np.random.uniform(-0.0001, 0.0001, int(pad_len / 2)),\n",
    "                               wav_speed_tune,\n",
    "                               np.random.uniform(-0.0001, 0.0001, int(np.ceil(pad_len / 2)))]\n",
    "    else: \n",
    "        cut_len = len(wav_speed_tune) - len(wav)\n",
    "        wav_speed_tune = wav_speed_tune[int(cut_len / 2) : int(cut_len / 2) + len(wav)]\n",
    "    return wav_speed_tune\n",
    "    \n",
    "def change_volume(wav, magnitude):\n",
    "    # 0 < x < 1 quieter; x = 1 identity; x > 1 louder\n",
    "    wav_volume_change = np.multiply(np.array([magnitude]), wav)\n",
    "    return wav_volume_change\n",
    "    \n",
    "def add_background(wav, bg_files):\n",
    "    sound_directory = \"C:\\\\Users\\\\hosle\\\\Documents\\\\_REU2019\\\\_project\\\\REU_Samples_and_Labels\\\\Samples\\\\\"\n",
    "    chosen_bg_file = bg_files[np.random.randint(len(bg_files))]\n",
    "\n",
    "    bg, sr = librosa.load(sound_directory + chosen_bg_file, res_type='kaiser_fast')\n",
    "    ceil = max((bg.shape[0] - wav.shape[0]), 1)\n",
    "    start_ = np.random.randint(ceil)\n",
    "    bg_slice = bg[start_ : start_ + wav.shape[0]]\n",
    "    if bg_slice.shape[0] < wav.shape[0]:\n",
    "        pad_len = wav.shape[0] - bg_slice.shape[0]\n",
    "        bg_slice = np.r_[np.random.uniform(-0.001, 0.001, int(pad_len / 2)), bg_slice, np.random.uniform(-0.001, 0.001, int(np.ceil(pad_len / 2)))]\n",
    "    wav_with_bg = wav * np.random.uniform(0.8, 1.2) + bg_slice * np.random.uniform(0, 0.5)\n",
    "    return wav_with_bg"
   ]
  },
  {
   "cell_type": "code",
   "execution_count": null,
   "metadata": {},
   "outputs": [],
   "source": [
    "number_of_augmentations = 4\n",
    "augmented_samples = np.zeros((samples.shape[0] * (number_of_augmentations + 1), samples.shape[1]))\n",
    "augmented_labels = np.zeros((labels.shape[0] * (number_of_augmentations + 1),)).astype('str')\n",
    "j = 0\n",
    "\n",
    "for i in range (0, len(augmented_samples), (number_of_augmentations + 1)):\n",
    "    if i % 100 == 0:\n",
    "        print(i)\n",
    "    \n",
    "    augmented_samples[i,:] = samples[j,:]\n",
    "    augmented_samples[i + 1,:] = time_shift(samples[j,:])\n",
    "    augmented_samples[i + 2,:] = change_pitch(samples[j,:], sample_rate)\n",
    "    augmented_samples[i + 3,:] = speed_change(samples[j,:])\n",
    "    augmented_samples[i + 4,:] = change_volume(samples[j,:], np.random.uniform())\n",
    "    ''' if labels[j] == 1:\n",
    "        augmented_samples[i + 5,:] = add_background(samples[j,:], bg_files) \n",
    "    else:\n",
    "        augmented_samples[i + 5,:] = add_background(samples[j,:], bg_files)\n",
    "        '''\n",
    "    \n",
    "    augmented_labels[i] = labels[j]\n",
    "    augmented_labels[i + 1] = labels[j]\n",
    "    augmented_labels[i + 2] = labels[j]\n",
    "    augmented_labels[i + 3] = labels[j]\n",
    "    augmented_labels[i + 4] = labels[j]\n",
    "    #augmented_labels[i + 5] = labels[j]\n",
    "    j += 1\n",
    "\n",
    "print(\"The number of samples available for training is currently \" + str(len(augmented_samples)) + '.')\n",
    "print(\"The number of labels available for training is currently \" + str(len(augmented_labels)) + '.')"
   ]
  },
  {
   "cell_type": "code",
   "execution_count": null,
   "metadata": {},
   "outputs": [],
   "source": [
    "np.save(\"aug_samples.npy\", augmented_samples)\n",
    "np.save(\"aug_labels.npy\", augmented_labels)"
   ]
  },
  {
   "cell_type": "markdown",
   "metadata": {},
   "source": [
    "## Model"
   ]
  },
  {
   "cell_type": "code",
   "execution_count": null,
   "metadata": {},
   "outputs": [],
   "source": [
    "from sklearn.preprocessing import LabelBinarizer\n",
    "samples = np.load(\"samples.npy\")\n",
    "labels = np.load(\"labels.npy\")"
   ]
  },
  {
   "cell_type": "code",
   "execution_count": null,
   "metadata": {},
   "outputs": [],
   "source": [
    "np.unique(labels)"
   ]
  },
  {
   "cell_type": "code",
   "execution_count": null,
   "metadata": {},
   "outputs": [],
   "source": [
    "samples.nbytes / (2**10)**3"
   ]
  },
  {
   "cell_type": "code",
   "execution_count": null,
   "metadata": {},
   "outputs": [],
   "source": [
    "lb = LabelBinarizer()\n",
    "labels = lb.fit_transform(labels)\n",
    "labels"
   ]
  },
  {
   "cell_type": "code",
   "execution_count": null,
   "metadata": {},
   "outputs": [],
   "source": [
    "kf = KFold(n_splits=3, shuffle=True)\n",
    "'''samples = aug_samples #np.array(samples)\n",
    "labels = aug_labels #np.array(labels)'''\n",
    "\n",
    "#labels = keras.utils.to_categorical(labels, 2)\n",
    "for train_index, test_index in kf.split(samples):\n",
    "    print(\"TRAIN:\", train_index, \"TEST:\", test_index)\n",
    "    train_wav, test_wav = samples[train_index], samples[test_index]\n",
    "    train_label, test_label = labels[train_index], labels[test_index]\n",
    "    break"
   ]
  },
  {
   "cell_type": "code",
   "execution_count": null,
   "metadata": {},
   "outputs": [],
   "source": [
    "# Parameters\n",
    "lr = 0.001\n",
    "generations = 20000\n",
    "num_gens_to_wait = 250\n",
    "batch_size = 32\n",
    "drop_out_rate = 0.2\n",
    "input_shape = (44100,1)"
   ]
  },
  {
   "cell_type": "code",
   "execution_count": null,
   "metadata": {},
   "outputs": [],
   "source": [
    "#For Conv1D add Channel\n",
    "#train_wav = np.array(train_wav)\n",
    "#test_wav = np.array(test_wav)\n",
    "train_wav = train_wav.reshape(-1,44100,1)\n",
    "test_wav = test_wav.reshape(-1,44100,1)\n",
    "#train_label = keras.utils.to_categorical(train_label, 2)\n",
    "#test_label = keras.utils.to_categorical(test_label, 2)"
   ]
  },
  {
   "cell_type": "markdown",
   "metadata": {},
   "source": [
    "### ROC AUC metric used."
   ]
  },
  {
   "cell_type": "code",
   "execution_count": 3,
   "metadata": {},
   "outputs": [],
   "source": [
    "def auc(y_true, y_pred):\n",
    "    auc = tf.metrics.auc(y_true, y_pred)[1]\n",
    "    K.get_session().run(tf.local_variables_initializer())\n",
    "    return auc"
   ]
  },
  {
   "cell_type": "code",
   "execution_count": 4,
   "metadata": {},
   "outputs": [
    {
     "name": "stdout",
     "output_type": "stream",
     "text": [
      "WARNING:tensorflow:From C:\\Users\\hosle\\Anaconda3\\lib\\site-packages\\tensorflow\\python\\ops\\resource_variable_ops.py:435: colocate_with (from tensorflow.python.framework.ops) is deprecated and will be removed in a future version.\n",
      "Instructions for updating:\n",
      "Colocations handled automatically by placer.\n",
      "WARNING:tensorflow:From C:\\Users\\hosle\\Anaconda3\\lib\\site-packages\\tensorflow\\python\\keras\\layers\\core.py:143: calling dropout (from tensorflow.python.ops.nn_ops) with keep_prob is deprecated and will be removed in a future version.\n",
      "Instructions for updating:\n",
      "Please use `rate` instead of `keep_prob`. Rate should be set to `rate = 1 - keep_prob`.\n",
      "WARNING:tensorflow:From C:\\Users\\hosle\\Anaconda3\\lib\\site-packages\\tensorflow\\python\\ops\\metrics_impl.py:526: to_float (from tensorflow.python.ops.math_ops) is deprecated and will be removed in a future version.\n",
      "Instructions for updating:\n",
      "Use tf.cast instead.\n",
      "WARNING:tensorflow:From C:\\Users\\hosle\\Anaconda3\\lib\\site-packages\\tensorflow\\python\\ops\\metrics_impl.py:788: div (from tensorflow.python.ops.math_ops) is deprecated and will be removed in a future version.\n",
      "Instructions for updating:\n",
      "Deprecated in favor of operator or tf.math.divide.\n"
     ]
    }
   ],
   "source": [
    "drop_out_rate = 0.1\n",
    "learning_rate = 0.001\n",
    "number_of_epochs = 100\n",
    "number_of_classes = 2\n",
    "batch_size = 32\n",
    "optimizer = optimizers.Adam(learning_rate, learning_rate / 100)\n",
    "input_shape = (44100, 1)\n",
    "input_tensor = Input(shape=input_shape)\n",
    "metrics = [auc, \"accuracy\"]\n",
    "\n",
    "x = layers.Conv1D(16, 9, activation=\"relu\", padding=\"same\")(input_tensor)\n",
    "x = layers.Conv1D(16, 9, activation=\"relu\", padding=\"same\")(x)\n",
    "x = layers.MaxPool1D(16)(x)\n",
    "x = layers.Dropout(rate=drop_out_rate)(x)\n",
    "\n",
    "x = layers.Conv1D(32, 3, activation=\"relu\", padding=\"same\")(x)\n",
    "x = layers.Conv1D(32, 3, activation=\"relu\", padding=\"same\")(x)\n",
    "x = layers.MaxPool1D(4)(x)\n",
    "x = layers.Dropout(rate=drop_out_rate)(x)\n",
    "\n",
    "x = layers.Conv1D(32, 3, activation=\"relu\", padding=\"same\")(x)\n",
    "x = layers.Conv1D(32, 3, activation=\"relu\", padding=\"same\")(x)\n",
    "x = layers.MaxPool1D(4)(x)\n",
    "x = layers.Dropout(rate=drop_out_rate)(x)\n",
    "\n",
    "x = layers.Conv1D(256, 3, activation=\"relu\", padding=\"same\")(x)\n",
    "x = layers.Conv1D(256, 3, activation=\"relu\", padding=\"same\")(x)\n",
    "x = layers.GlobalMaxPool1D()(x)\n",
    "x = layers.Dropout(rate=(drop_out_rate * 2))(x) # Increasing drop-out rate here to prevent overfitting\n",
    "\n",
    "x = layers.Dense(64, activation=\"relu\")(x)\n",
    "x = layers.Dense(1028, activation=\"relu\")(x)\n",
    "output_tensor = layers.Dense(number_of_classes, activation=\"softmax\")(x)\n",
    "\n",
    "model = tf.keras.Model(input_tensor, output_tensor)\n",
    "model.compile(optimizer=optimizer, loss=keras.losses.binary_crossentropy, metrics=metrics)"
   ]
  },
  {
   "cell_type": "code",
   "execution_count": null,
   "metadata": {},
   "outputs": [],
   "source": [
    "model.summary()"
   ]
  },
  {
   "cell_type": "code",
   "execution_count": 5,
   "metadata": {},
   "outputs": [],
   "source": [
    "model_filename = \"gunshot_sound_model.pkl\"\n",
    "\n",
    "model_callbacks = [\n",
    "    EarlyStopping(monitor='val_acc',\n",
    "                  patience=10,\n",
    "                  verbose=1,\n",
    "                  mode='auto'),\n",
    "    \n",
    "    ModelCheckpoint(model_filename, monitor='val_acc',\n",
    "                    verbose=1,\n",
    "                    save_best_only=True,\n",
    "                    mode='auto'),\n",
    "]\n"
   ]
  },
  {
   "cell_type": "code",
   "execution_count": null,
   "metadata": {},
   "outputs": [],
   "source": [
    "model.fit(train_wav, train_label, \n",
    "          validation_data=[test_wav, test_label],\n",
    "          batch_size=batch_size,\n",
    "          callbacks = callbacks,\n",
    "          epochs=50,\n",
    "          verbose=1)"
   ]
  },
  {
   "cell_type": "code",
   "execution_count": 6,
   "metadata": {},
   "outputs": [],
   "source": [
    "model.load_weights(\"gunshot_sound_model_normalized.h5\")"
   ]
  },
  {
   "cell_type": "markdown",
   "metadata": {},
   "source": [
    "### Validation"
   ]
  },
  {
   "cell_type": "code",
   "execution_count": null,
   "metadata": {},
   "outputs": [],
   "source": [
    "mypath = \"C:\\\\Users\\\\hosle\\\\Downloads\\\\felix_blume_fireworks_distant_new_years_eve_mexico.mp3\"\n",
    "#mypath = \"C:\\\\Users\\\\hosle\\\\Documents\\\\_REU2019\\\\extra\\\\260600.wav\"\n",
    "\n",
    "fire, sr = librosa.load(mypath, res_type='kaiser_fast')"
   ]
  },
  {
   "cell_type": "code",
   "execution_count": null,
   "metadata": {},
   "outputs": [],
   "source": [
    "show(fire)"
   ]
  },
  {
   "cell_type": "code",
   "execution_count": 53,
   "metadata": {},
   "outputs": [],
   "source": [
    "labels = np.load(\"labels.npy\")\n",
    "urban = ['air_conditioner', 'car_horn', 'children_playing', 'dog_bark', 'other',\n",
    "       'drilling', 'engine_idling', 'jackhammer', 'siren', 'street_music', 'fireworks', 'glassbreak']\n",
    "for i in range(len(labels)):\n",
    "    if labels[i] in urban:\n",
    "        labels[i] = 'other'\n",
    "\n",
    "lb = LabelBinarizer()\n",
    "labels = lb.fit_transform(labels)\n",
    "labels = np.hstack((labels, 1 - labels))"
   ]
  },
  {
   "cell_type": "code",
   "execution_count": 57,
   "metadata": {},
   "outputs": [],
   "source": [
    "samples = np.load(\"valid_wav.npy\")\n",
    "labels = np.load(\"valid_label.npy\")"
   ]
  },
  {
   "cell_type": "code",
   "execution_count": 48,
   "metadata": {},
   "outputs": [
    {
     "data": {
      "text/plain": [
       "array([[1, 0],\n",
       "       [1, 0],\n",
       "       [1, 0],\n",
       "       ...,\n",
       "       [1, 0],\n",
       "       [1, 0],\n",
       "       [1, 0]], dtype=int64)"
      ]
     },
     "execution_count": 48,
     "metadata": {},
     "output_type": "execute_result"
    }
   ],
   "source": [
    "labels"
   ]
  },
  {
   "cell_type": "code",
   "execution_count": 54,
   "metadata": {},
   "outputs": [
    {
     "name": "stdout",
     "output_type": "stream",
     "text": [
      "4045\n",
      "gun_shot [[  58   81   92  124  152  167  168  218  228  248  253  267  313  337\n",
      "   338  392  411  417  425  436  445  451  582  611  624  631  632  636\n",
      "   677  685  687  688  699  722  723  760  784  811  903  918  926  944\n",
      "   946  988 1057 1058 1079 1080 1086 1164 1195 1199 1211 1228 1250 1266\n",
      "  1272 1359 1386 1387 1389 1427 1458 1623 1624 1625 1694 1740 1741 1767\n",
      "  1800 1816 1892 1893 1903 1904 1905 1971 2017 2044 2046 2140 2166 2191\n",
      "  2337 2338 2366 2367 2382 2397 2398 2405 2439 2440 2507 2583 2614 2632\n",
      "  2661 2665 2666 2667 2683 2707 2782 2793 2794 2832 2865 2929 2932 3128\n",
      "  3152 3153 3154 3155 3156 3158 3159 3160 3161 3162 3163 3164 3165 3166\n",
      "  3167 3168 3169 3170 3171 3172 3173 3174 3175 3176 3177 3178 3179 3180\n",
      "  3181 3182 3183 3185 3187 3188 3189 3190 3191 3192 3193 3195 3196 3199\n",
      "  3200 3201 3202 3203 3204 3205 3206 3207 3208 3209 3210 3211 3212 3213\n",
      "  3214 3215 3216 3217 3218 3219 3221 3222 3223 3224 3225 3226 3227 3228\n",
      "  3230 3231 3232 3233 3236 3237 3238 3239 3240 3241 3242 3244 3245 3246\n",
      "  3247 3248 3249 3250 3251 3253 3254 3255 3256 3257 3258 3259 3260 3261\n",
      "  3262 3263 3264 3265 3266 3267 3268 3269 3270 3271 3272 3273 3276 3277\n",
      "  3278 3279 3280 3281 3282 3283 3285 3286 3287 3288 3289 3290 3291 3292\n",
      "  3293 3294 3296 3297 3298 3299 3300 3301 3302 3303 3304 3305 3306 3308\n",
      "  3309 3310 3311 3312 3313 3314 3315 3316 3317 3318 3319 3320 3321 3322\n",
      "  3323 3325 3326 3327 3328 3329 3330 3331 3332 3333 3334 3337 3338 3339\n",
      "  3340 3341 3342 3343 3344 3345 3346 3348 3349 3350 3351 3352 3353 3354\n",
      "  3355 3358 3359 3360 3361 3362 3363 3364 3365 3366 3367 3368 3369 3370\n",
      "  3371 3372 3374 3375 3376 3377 3378 3379 3380 3381 3382 3385 3386 3387\n",
      "  3388 3389 3390 3391 3392 3393 3394 3395 3396 3397 3398 3399 3400 3401\n",
      "  3402 3403 3405 3406 3407 3408 3409 3410 3411 3412 3414 3415 3416 3417\n",
      "  3418 3419 3420 3422 3423 3424 3425 3426 3427 3428 3430 3431 3432 3433\n",
      "  3434 3435 3437 3438 3439 3440 3441 3442 3443 3444 3445 3446 3447 3449\n",
      "  3450 3451 3452 3453 3454 3455 3456 3457 3458 3459 3462 3463 3464 3465\n",
      "  3466 3467 3468 3469 3470 3471 3472 3473 3474 3475 3476 3477 3478 3479\n",
      "  3480 3481 3482 3483 3484 3485 3488 3489 3490 3491 3492 3495 3497 3498\n",
      "  3499 3500 3501 3502 3503 3504 3505 3510 3511 3512 3513 3514 3516 3517\n",
      "  3518 3519 3520 3521 3522 3523 3524 3525 3526 3529 3530 3531 3532 3533\n",
      "  3534 3536 3537 3538 3539 3540 3541 3542 3543 3544 3545 3546 3547 3548\n",
      "  3549 3550 3551 3553 3555 3556 3557 3558 3559 3560 3561 3562 3563 3564\n",
      "  3565 3566 3567 3568 3569 3572 3573 3574 3575 3576 3577 3578 3579 3580\n",
      "  3582 3583 3584 3585 3586 3587 3588 3589 3590 3591 3592 3593 3594 3597\n",
      "  3599 3600 3601 3603 3604 3605 3606 3607 3608 3609 3610 3611 3612 3613\n",
      "  3614 3615 3616 3617 3618 3619 3620]]\n",
      "['other' 'other' 'other' ... 'other' 'other' 'other']\n"
     ]
    }
   ],
   "source": [
    "samples = samples.reshape(-1, 44100, 1)\n",
    "\n",
    "val_pred = model.predict(samples)\n",
    "val_pred1 = lb.inverse_transform(val_pred[:, 0])\n",
    "print(len(val_pred1))\n",
    "print(\"gun_shot\", np.argwhere(val_pred1 == 'gun_shot').T)\n",
    "print(val_pred1)"
   ]
  },
  {
   "cell_type": "code",
   "execution_count": 91,
   "metadata": {},
   "outputs": [
    {
     "name": "stdout",
     "output_type": "stream",
     "text": [
      "38\n",
      "[[  62  200  227  356  943  945 1359 1427 1826 1970 2190 2312 2758 3128\n",
      "  3184 3198 3220 3229 3235 3274 3295 3307 3347 3436 3494 3496 3506 3507\n",
      "  3508 3509 3527 3528 3535 3552 3581 3595 3596 3598]]\n",
      "0.9906056860321384\n"
     ]
    }
   ],
   "source": [
    "truth = lb.inverse_transform(labels[:,0])\n",
    "arg = np.argwhere(truth != val_pred1)\n",
    "print(len(arg))\n",
    "print(arg.T)\n",
    "print(1 - len(np.argwhere(truth != val_pred1)) / len(truth))"
   ]
  },
  {
   "cell_type": "code",
   "execution_count": 60,
   "metadata": {},
   "outputs": [],
   "source": [
    "validation = np.load(\"valid_wav.npy\")"
   ]
  },
  {
   "cell_type": "code",
   "execution_count": 110,
   "metadata": {},
   "outputs": [
    {
     "name": "stdout",
     "output_type": "stream",
     "text": [
      "[0.624 0.376]\n",
      "predicted:  other\n",
      "Truth:  gun_shot\n"
     ]
    },
    {
     "data": {
      "text/html": [
       "\n",
       "                <audio controls=\"controls\" >\n",
       "                    <source src=\"data:audio/wav;base64,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\" type=\"audio/wav\" />\n",
       "                    Your browser does not support the audio element.\n",
       "                </audio>\n",
       "              "
      ],
      "text/plain": [
       "<IPython.lib.display.Audio object>"
      ]
     },
     "execution_count": 110,
     "metadata": {},
     "output_type": "execute_result"
    },
    {
     "data": {
      "image/png": "[encoded data removed]",
      "text/plain": [
       "<Figure size 864x288 with 1 Axes>"
      ]
     },
     "metadata": {
      "needs_background": "light"
     },
     "output_type": "display_data"
    }
   ],
   "source": [
    "i = arg[33][0]\n",
    "print(np.round(val_pred[i, :], 3))\n",
    "print(\"predicted: \",val_pred1[i]); print(\"Truth: \", truth[i])\n",
    "show(validation [i])\n",
    "\n",
    "ipd.Audio(validation [i], rate=22050)"
   ]
  },
  {
   "cell_type": "markdown",
   "metadata": {},
   "source": [
    "## Tflite converter"
   ]
  },
  {
   "cell_type": "code",
   "execution_count": null,
   "metadata": {},
   "outputs": [],
   "source": [
    "model_name = \"model.h5\";"
   ]
  },
  {
   "cell_type": "code",
   "execution_count": null,
   "metadata": {},
   "outputs": [],
   "source": [
    "converter = tf.contrib.lite.TFLiteConverter.from_keras_model_file(model_name)# custom_objects={'auc': auc})\n",
    "print(\"\\n made the converter using from_keras_model \\n\")"
   ]
  },
  {
   "cell_type": "code",
   "execution_count": null,
   "metadata": {},
   "outputs": [],
   "source": [
    "#post-training quantization\n",
    "converter.post_training_quantize = True\n",
    "print(\" did post training quantization \\n\")"
   ]
  },
  {
   "cell_type": "code",
   "execution_count": null,
   "metadata": {},
   "outputs": [],
   "source": [
    "#convert\n",
    "tflite_model = converter.convert()\n",
    "print(\" converted successfully \\n\")"
   ]
  },
  {
   "cell_type": "code",
   "execution_count": null,
   "metadata": {},
   "outputs": [],
   "source": [
    "#save\n",
    "open(\"converted_gunshot_model_ptq.tflite\", \"wb\").write(tflite_model)\n",
    "print(\" saved successfully \\n\")"
   ]
  },
  {
   "cell_type": "code",
   "execution_count": null,
   "metadata": {},
   "outputs": [],
   "source": []
  }
 ],
 "metadata": {
  "kernelspec": {
   "display_name": "Python 3",
   "language": "python",
   "name": "python3"
  },
  "language_info": {
   "codemirror_mode": {
    "name": "ipython",
    "version": 3
   },
   "file_extension": ".py",
   "mimetype": "text/x-python",
   "name": "python",
   "nbconvert_exporter": "python",
   "pygments_lexer": "ipython3",
   "version": "3.7.3"
  }
 },
 "nbformat": 4,
 "nbformat_minor": 2
}

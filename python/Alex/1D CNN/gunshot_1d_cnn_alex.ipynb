{
 "cells": [
  {
   "cell_type": "markdown",
   "metadata": {},
   "source": [
    "# Library Imports"
   ]
  },
  {
   "cell_type": "markdown",
   "metadata": {},
   "source": [
    "### File Directory Libraries"
   ]
  },
  {
   "cell_type": "code",
   "execution_count": null,
   "metadata": {},
   "outputs": [],
   "source": [
    "import os"
   ]
  },
  {
   "cell_type": "markdown",
   "metadata": {},
   "source": [
    "### Math Libraries"
   ]
  },
  {
   "cell_type": "code",
   "execution_count": null,
   "metadata": {},
   "outputs": [],
   "source": [
    "import numpy as np\n",
    "import matplotlib.pyplot as plt"
   ]
  },
  {
   "cell_type": "markdown",
   "metadata": {},
   "source": [
    "### Data Pre-Processing Libraries"
   ]
  },
  {
   "cell_type": "code",
   "execution_count": null,
   "metadata": {},
   "outputs": [],
   "source": [
    "import pandas as pd\n",
    "import librosa\n",
    "import soundfile\n",
    "import re\n",
    "import cv2\n",
    "from array import array\n",
    "from sklearn.preprocessing import LabelBinarizer"
   ]
  },
  {
   "cell_type": "markdown",
   "metadata": {},
   "source": [
    "### Visualization Libraries"
   ]
  },
  {
   "cell_type": "code",
   "execution_count": null,
   "metadata": {},
   "outputs": [],
   "source": [
    "import IPython.display as ipd"
   ]
  },
  {
   "cell_type": "markdown",
   "metadata": {},
   "source": [
    "### Deep Learning Libraries"
   ]
  },
  {
   "cell_type": "code",
   "execution_count": null,
   "metadata": {},
   "outputs": [],
   "source": [
    "import tensorflow as tf\n",
    "from tensorflow.keras import Input, layers, optimizers, backend as K\n",
    "from tensorflow.keras.models import load_model\n",
    "from tensorflow.keras.callbacks import EarlyStopping, ModelCheckpoint"
   ]
  },
  {
   "cell_type": "markdown",
   "metadata": {},
   "source": [
    "### Configuration of Imported Libraries"
   ]
  },
  {
   "cell_type": "code",
   "execution_count": null,
   "metadata": {},
   "outputs": [],
   "source": [
    "%matplotlib inline"
   ]
  },
  {
   "cell_type": "markdown",
   "metadata": {},
   "source": [
    "# Initialization of Variables"
   ]
  },
  {
   "cell_type": "code",
   "execution_count": null,
   "metadata": {},
   "outputs": [],
   "source": [
    "GUNSHOT_FREQUENCY_THESHOLD = 0.25\n",
    "SAMPLE_RATE_PER_SECOND = 22050\n",
    "SAMPLE_RATE_PER_TWO_SECONDS = 44100\n",
    "SOUND_FILE_ID = 0\n",
    "BASE_DIRECTORY = \"/home/alexm/Datasets/\"\n",
    "DATA_DIRECTORY = BASE_DIRECTORY + \"REU_Samples_and_Labels/\"\n",
    "SOUND_DATA_DIRECTORY = DATA_DIRECTORY + \"Samples/\"\n",
    "samples = []\n",
    "labels = []\n",
    "sound_file_names = []\n",
    "sample_weights = []"
   ]
  },
  {
   "cell_type": "markdown",
   "metadata": {},
   "source": [
    "# Data Pre-Processing"
   ]
  },
  {
   "cell_type": "markdown",
   "metadata": {},
   "source": [
    "## Reading in the CSV file of descriptors for many kinds of sounds"
   ]
  },
  {
   "cell_type": "code",
   "execution_count": null,
   "metadata": {},
   "outputs": [],
   "source": [
    "sound_types = pd.read_csv(DATA_DIRECTORY + \"labels.csv\")"
   ]
  },
  {
   "cell_type": "markdown",
   "metadata": {},
   "source": [
    "## Reading in all of the sound data WAV files"
   ]
  },
  {
   "cell_type": "code",
   "execution_count": null,
   "metadata": {},
   "outputs": [],
   "source": [
    "print(\"...Parsing sound data...\")\n",
    "\n",
    "for file in os.listdir(SOUND_DATA_DIRECTORY):\n",
    "    if file.endswith(\".wav\"):\n",
    "        try:\n",
    "            # Adding 2 second-long samples to the list of samples\n",
    "            SOUND_FILE_ID = int(re.search(r'\\d+', file).group())\n",
    "            sample, sample_rate = librosa.load(SOUND_DATA_DIRECTORY + file)\n",
    "            prescribed_label = sound_types.loc[sound_types[\"ID\"] == SOUND_FILE_ID, \"Class\"].values[0]\n",
    "            \n",
    "            if len(sample) <= SAMPLE_RATE_PER_TWO_SECONDS:\n",
    "                label = 1\n",
    "                number_of_missing_hertz = SAMPLE_RATE_PER_TWO_SECONDS - len(sample)\n",
    "                padded_sample = np.array(sample.tolist() + [0 for i in range(number_of_missing_hertz)])\n",
    "                \n",
    "                if prescribed_label != \"gun_shot\":\n",
    "                    label = 0\n",
    "\n",
    "                samples.append(padded_sample)\n",
    "                labels.append(label)\n",
    "                sound_file_names.append(file)\n",
    "                \n",
    "            else:\n",
    "                for i in range(0, sample.size - SAMPLE_RATE_PER_TWO_SECONDS, SAMPLE_RATE_PER_TWO_SECONDS):\n",
    "                    label = 1\n",
    "                    sample_slice = sample[i : i + SAMPLE_RATE_PER_TWO_SECONDS]\n",
    "                    \n",
    "                    if prescribed_label != \"gun_shot\":\n",
    "                        label = 0\n",
    "                        \n",
    "                    elif np.max(abs(sample_slice)) < GUNSHOT_FREQUENCY_THESHOLD:\n",
    "                        label = 0\n",
    "\n",
    "                    samples.append(sample_slice)\n",
    "                    labels.append(label)\n",
    "                    sound_file_names.append(file)\n",
    "\n",
    "        except:\n",
    "            sample, sample_rate = soundfile.read(SOUND_DATA_DIRECTORY + file)\n",
    "            print(\"Sound(s) not recognized by Librosa:\", file)\n",
    "            pass\n",
    "\n",
    "print(\"The number of samples available for training is currently \" + str(len(samples)) + '.')\n",
    "print(\"The number of labels available for training is currently \" + str(len(labels)) + '.')"
   ]
  },
  {
   "cell_type": "markdown",
   "metadata": {},
   "source": [
    "## Caching NumPy arrays as NumPy files"
   ]
  },
  {
   "cell_type": "code",
   "execution_count": null,
   "metadata": {},
   "outputs": [],
   "source": [
    "np.save(BASE_DIRECTORY + \"gunshot_sound_samples.npy\", samples)\n",
    "np.save(BASE_DIRECTORY + \"gunshot_sound_labels.npy\", labels)\n",
    "np.save(BASE_DIRECTORY + \"gunshot_sound_file_names.npy\", sound_file_names)"
   ]
  },
  {
   "cell_type": "markdown",
   "metadata": {},
   "source": [
    "## Loading NumPy files as NumPy arrays"
   ]
  },
  {
   "cell_type": "code",
   "execution_count": null,
   "metadata": {},
   "outputs": [],
   "source": [
    "samples = np.load(BASE_DIRECTORY + \"gunshot_sound_samples.npy\")\n",
    "labels = np.load(BASE_DIRECTORY + \"gunshot_sound_labels.npy\")\n",
    "sound_file_names = np.load(BASE_DIRECTORY + \"gunshot_sound_file_names.npy\")"
   ]
  },
  {
   "cell_type": "markdown",
   "metadata": {},
   "source": [
    "## Data augmentation functions"
   ]
  },
  {
   "cell_type": "code",
   "execution_count": null,
   "metadata": {},
   "outputs": [],
   "source": [
    "def time_shift(wav):\n",
    "    start_ = int(np.random.uniform(-7000, 7000))\n",
    "    if start_ >= 0:\n",
    "        wav_time_shift = np.r_[wav[start_:], np.random.uniform(-0.001, 0.001, start_)]\n",
    "    else:\n",
    "        wav_time_shift = np.r_[np.random.uniform(-0.001, 0.001, -start_), wav[:start_]]\n",
    "    return wav_time_shift\n",
    "    \n",
    "def change_pitch(wav, sample_rate):\n",
    "    magnitude = (np.random.uniform(-0.1, 0.1))\n",
    "    wav_pitch_change = librosa.effects.pitch_shift(wav, sample_rate, magnitude)\n",
    "    return wav_pitch_change\n",
    "    \n",
    "def speed_change(wav):\n",
    "    speed_rate = np.random.uniform(0.7, 1.3)\n",
    "    wav_speed_tune = cv2.resize(wav, (1, int(len(wav) * speed_rate))).squeeze()\n",
    "    \n",
    "    if len(wav_speed_tune) < len(wav):\n",
    "        pad_len = len(wav) - len(wav_speed_tune)\n",
    "        wav_speed_tune = np.r_[np.random.uniform(-0.0001, 0.0001, int(pad_len / 2)),\n",
    "                               wav_speed_tune,\n",
    "                               np.random.uniform(-0.0001, 0.0001, int(np.ceil(pad_len / 2)))]\n",
    "    else: \n",
    "        cut_len = len(wav_speed_tune) - len(wav)\n",
    "        wav_speed_tune = wav_speed_tune[int(cut_len / 2) : int(cut_len / 2) + len(wav)]\n",
    "    return wav_speed_tune\n",
    "    \n",
    "def change_volume(wav, magnitude):\n",
    "    # 0 < x < 1 quieter; x = 1 identity; x > 1 louder\n",
    "    wav_volume_change = np.multiply(np.array([magnitude]), wav)\n",
    "    return wav_volume_change\n",
    "    \n",
    "def add_background(wav, file, data_directory, label_to_avoid):\n",
    "    label_csv = data_directory + \"labels.csv\"\n",
    "    sound_types = pd.read_csv(label_csv)\n",
    "    sound_directory = data_directory + \"Samples/\"\n",
    "    bg_files = os.listdir(sound_directory)\n",
    "    bg_files.remove(file)\n",
    "    chosen_bg_file = bg_files[np.random.randint(len(bg_files))]\n",
    "    jndex = int(chosen_bg_file.split('.')[0])\n",
    "    while sound_types.loc[sound_types[\"ID\"] == jndex, \"Class\"].values[0] == label_to_avoid:\n",
    "        chosen_bg_file = bg_files[np.random.randint(len(bg_files))]\n",
    "        jndex = int(chosen_bg_file.split('.')[0])\n",
    "    bg, sr = librosa.load(sound_directory + chosen_bg_file)\n",
    "    ceil = max((bg.shape[0] - wav.shape[0]), 1)\n",
    "    start_ = np.random.randint(ceil)\n",
    "    bg_slice = bg[start_ : start_ + wav.shape[0]]\n",
    "    if bg_slice.shape[0] < wav.shape[0]:\n",
    "        pad_len = wav.shape[0] - bg_slice.shape[0]\n",
    "        bg_slice = np.r_[np.random.uniform(-0.001, 0.001, int(pad_len / 2)), bg_slice, np.random.uniform(-0.001, 0.001, int(np.ceil(pad_len / 2)))]\n",
    "    wav_with_bg = wav * np.random.uniform(0.8, 1.2) + bg_slice * np.random.uniform(0, 0.5)\n",
    "    return wav_with_bg"
   ]
  },
  {
   "cell_type": "markdown",
   "metadata": {},
   "source": [
    "## Augmenting data (i.e. time shifting, speed changing, etc.)"
   ]
  },
  {
   "cell_type": "code",
   "execution_count": null,
   "metadata": {},
   "outputs": [],
   "source": [
    "samples = np.array(samples)\n",
    "labels = np.array(labels)\n",
    "number_of_augmentations = 5\n",
    "augmented_samples = np.zeros((samples.shape[0] * (number_of_augmentations + 1), samples.shape[1]))\n",
    "augmented_labels = np.zeros((labels.shape[0] * (number_of_augmentations + 1),))\n",
    "augmented_sound_file_names = []\n",
    "j = 0\n",
    "\n",
    "for i in range (0, len(augmented_samples), (number_of_augmentations + 1)):\n",
    "    file = sound_file_names[j]\n",
    "    \n",
    "    augmented_samples[i,:] = samples[j,:]\n",
    "    augmented_samples[i + 1,:] = time_shift(samples[j,:])\n",
    "    augmented_samples[i + 2,:] = change_pitch(samples[j,:], SAMPLE_RATE_PER_SECOND)\n",
    "    augmented_samples[i + 3,:] = speed_change(samples[j,:])\n",
    "    augmented_samples[i + 4,:] = change_volume(samples[j,:], np.random.uniform())\n",
    "    if labels[j] == 1:\n",
    "        augmented_samples[i + 5,:] = add_background(samples[j,:], file, DATA_DIRECTORY, \"\") \n",
    "    else:\n",
    "        augmented_samples[i + 5,:] = add_background(samples[j,:], file, DATA_DIRECTORY, \"gun_shot\")\n",
    "    \n",
    "    augmented_labels[i] = labels[j]\n",
    "    augmented_labels[i + 1] = labels[j]\n",
    "    augmented_labels[i + 2] = labels[j]\n",
    "    augmented_labels[i + 3] = labels[j]\n",
    "    augmented_labels[i + 4] = labels[j]\n",
    "    augmented_labels[i + 5] = labels[j]\n",
    "    \n",
    "    augmented_sound_file_names.append(file)\n",
    "    augmented_sound_file_names.append(file)\n",
    "    augmented_sound_file_names.append(file)\n",
    "    augmented_sound_file_names.append(file)\n",
    "    augmented_sound_file_names.append(file)\n",
    "    augmented_sound_file_names.append(file)\n",
    "    \n",
    "    j += 1\n",
    "\n",
    "samples = augmented_samples\n",
    "labels = augmented_labels\n",
    "sound_file_names = np.array(augmented_sound_file_names)\n",
    "\n",
    "\n",
    "print(\"The number of samples available for training is currently \" + str(len(samples)) + '.')\n",
    "print(\"The number of labels available for training is currently \" + str(len(labels)) + '.')"
   ]
  },
  {
   "cell_type": "markdown",
   "metadata": {},
   "source": [
    "## Saving augmented NumPy arrays as NumPy files"
   ]
  },
  {
   "cell_type": "code",
   "execution_count": null,
   "metadata": {},
   "outputs": [],
   "source": [
    "np.save(BASE_DIRECTORY + \"gunshot_augmented_sound_samples.npy\", samples)\n",
    "np.save(BASE_DIRECTORY + \"gunshot_augmented_sound_labels.npy\", labels)\n",
    "np.save(BASE_DIRECTORY + \"gunshot_augmented_sound_file_names.npy\", sound_file_names)"
   ]
  },
  {
   "cell_type": "markdown",
   "metadata": {},
   "source": [
    "## Loading augmented NumPy files as NumPy arrays"
   ]
  },
  {
   "cell_type": "code",
   "execution_count": null,
   "metadata": {},
   "outputs": [],
   "source": [
    "samples = np.load(BASE_DIRECTORY + \"gunshot_augmented_sound_samples.npy\")\n",
    "labels = np.load(BASE_DIRECTORY + \"gunshot_augmented_sound_labels.npy\")\n",
    "# sound_file_names = np.load(BASE_DIRECTORY + \"gunshot_augmented_sound_file_names.npy\")"
   ]
  },
  {
   "cell_type": "markdown",
   "metadata": {},
   "source": [
    "## Instantiating a sample weights NumPy array"
   ]
  },
  {
   "cell_type": "code",
   "execution_count": null,
   "metadata": {},
   "outputs": [],
   "source": [
    "sample_weights = np.array([1 for normally_recorded_sample in range(len(samples) - 660)] + [20 for raspberry_pi_recorded_sample in range(660)])\n",
    "print(\"Shape of samples weights before splitting:\", sample_weights.shape)"
   ]
  },
  {
   "cell_type": "markdown",
   "metadata": {},
   "source": [
    "### Optional debugging after processing the data"
   ]
  },
  {
   "cell_type": "code",
   "execution_count": null,
   "metadata": {},
   "outputs": [],
   "source": [
    "i = 0  # You can change the value of 'i' to adjust which sample is being inspected.\n",
    "sample = samples[i]\n",
    "print(\"The number of samples available to the model for training is \" + str(len(samples)) + '.')\n",
    "print(\"The maximum frequency value in sample slice #\" + str(i) + \" is \" + str(np.max(abs(sample))) + '.')\n",
    "print(\"The label associated with sample slice #\" + str(i) + \" is \" + str(labels[i]) + '.')\n",
    "ipd.Audio(sample, rate = SAMPLE_RATE_PER_SECOND)"
   ]
  },
  {
   "cell_type": "markdown",
   "metadata": {},
   "source": [
    "## Establishing index values for the data"
   ]
  },
  {
   "cell_type": "code",
   "execution_count": null,
   "metadata": {},
   "outputs": [],
   "source": [
    "all_index = np.arange(len(samples))\n",
    "train_index = np.load(\"../../../raspberry_pi/indexes/training_set_indexes.npy\")\n",
    "test_index = np.load(\"../../../raspberry_pi/indexes/testing_set_indexes.npy\")\n",
    "valid_index = np.delete(all_index, list(train_index) + list(test_index))"
   ]
  },
  {
   "cell_type": "markdown",
   "metadata": {},
   "source": [
    "## Restructuring the label data"
   ]
  },
  {
   "cell_type": "code",
   "execution_count": null,
   "metadata": {},
   "outputs": [],
   "source": [
    "labels = np.array([(\"gun_shot\" if label == 1 else \"other\") for label in labels])\n",
    "label_binarizer = LabelBinarizer()\n",
    "labels = label_binarizer.fit_transform(labels)\n",
    "labels = np.hstack((labels, 1 - labels))"
   ]
  },
  {
   "cell_type": "markdown",
   "metadata": {},
   "source": [
    "### Debugging of the sample and label data's shape (optional)"
   ]
  },
  {
   "cell_type": "code",
   "execution_count": null,
   "metadata": {},
   "outputs": [],
   "source": [
    "print(\"Shape of samples array:\", samples.shape)\n",
    "print(\"Shape of labels array:\", labels.shape)"
   ]
  },
  {
   "cell_type": "markdown",
   "metadata": {},
   "source": [
    "## Arranging the data"
   ]
  },
  {
   "cell_type": "code",
   "execution_count": null,
   "metadata": {},
   "outputs": [],
   "source": [
    "train_wav, test_wav, valid_wav = samples[train_index], samples[test_index], samples[valid_index]\n",
    "train_label, test_label, valid_label = labels[train_index], labels[test_index], labels[valid_index]\n",
    "train_weights, test_weights, valid_weights = sample_weights[train_index], sample_weights[test_index], sample_weights[valid_index]"
   ]
  },
  {
   "cell_type": "markdown",
   "metadata": {},
   "source": [
    "## Reshaping the sound data"
   ]
  },
  {
   "cell_type": "code",
   "execution_count": null,
   "metadata": {},
   "outputs": [],
   "source": [
    "train_wav = train_wav.reshape(-1, SAMPLE_RATE_PER_TWO_SECONDS, 1)\n",
    "test_wav = test_wav.reshape(-1, SAMPLE_RATE_PER_TWO_SECONDS, 1)"
   ]
  },
  {
   "cell_type": "markdown",
   "metadata": {},
   "source": [
    "# Model"
   ]
  },
  {
   "cell_type": "markdown",
   "metadata": {},
   "source": [
    "## Loading previous model"
   ]
  },
  {
   "cell_type": "code",
   "execution_count": null,
   "metadata": {},
   "outputs": [],
   "source": [
    "model = load_model(BASE_DIRECTORY + \"gunshot_sound_model.h5\")"
   ]
  },
  {
   "cell_type": "markdown",
   "metadata": {},
   "source": [
    "## ROC (AUC) metric - Uses the import \"from tensorflow.keras import backend as K\""
   ]
  },
  {
   "cell_type": "code",
   "execution_count": null,
   "metadata": {},
   "outputs": [],
   "source": [
    "def auc(y_true, y_pred):\n",
    "    auc = tf.metrics.auc(y_true, y_pred)[1]\n",
    "    K.get_session().run(tf.local_variables_initializer())\n",
    "    return auc"
   ]
  },
  {
   "cell_type": "markdown",
   "metadata": {},
   "source": [
    "## Model Parameters"
   ]
  },
  {
   "cell_type": "code",
   "execution_count": null,
   "metadata": {},
   "outputs": [],
   "source": [
    "number_of_epochs = 100\n",
    "batch_size = 32\n",
    "optimizer = optimizers.Adam(lr = 0.001, decay = 0.001 / 100)\n",
    "input_tensor = Input(shape = (44100, 1))"
   ]
  },
  {
   "cell_type": "markdown",
   "metadata": {},
   "source": [
    "## Configuration of GPU for training (optional)"
   ]
  },
  {
   "cell_type": "code",
   "execution_count": null,
   "metadata": {},
   "outputs": [],
   "source": [
    "os.environ[\"CUDA_VISIBLE_DEVICES\"] = \"0\"\n",
    "config = tf.ConfigProto()\n",
    "config.gpu_options.allow_growth = True\n",
    "session = tf.Session(config = config)\n",
    "K.set_session(session)"
   ]
  },
  {
   "cell_type": "markdown",
   "metadata": {},
   "source": [
    "## Model Architecture"
   ]
  },
  {
   "cell_type": "code",
   "execution_count": null,
   "metadata": {},
   "outputs": [],
   "source": [
    "# First Layer\n",
    "x = layers.Conv1D(16, 9, activation = \"relu\", padding = \"same\")(input_tensor)\n",
    "x = layers.Conv1D(16, 9, activation = \"relu\", padding = \"same\")(x)\n",
    "x = layers.MaxPool1D(16)(x)\n",
    "x = layers.Dropout(rate = 0.25)(x)\n",
    "\n",
    "# Second Layer\n",
    "x = layers.Conv1D(32, 3, activation = \"relu\", padding = \"same\")(x)\n",
    "x = layers.Conv1D(32, 3, activation = \"relu\", padding = \"same\")(x)\n",
    "x = layers.MaxPool1D(4)(x)\n",
    "x = layers.Dropout(rate = 0.25)(x)\n",
    "\n",
    "# Third Layer\n",
    "x = layers.Conv1D(32, 3, activation = \"relu\", padding = \"same\")(x)\n",
    "x = layers.Conv1D(32, 3, activation = \"relu\", padding = \"same\")(x)\n",
    "x = layers.MaxPool1D(4)(x)\n",
    "x = layers.Dropout(rate = 0.25)(x)\n",
    "\n",
    "# Fourth Layer\n",
    "x = layers.Conv1D(256, 3, activation = \"relu\", padding = \"same\")(x)\n",
    "x = layers.Conv1D(256, 3, activation = \"relu\", padding = \"same\")(x)\n",
    "x = layers.GlobalMaxPool1D()(x)\n",
    "x = layers.Dropout(rate = (0.5))(x) # Increasing drop-out rate here to prevent overfitting\n",
    "\n",
    "x = layers.Dense(64, activation = \"relu\")(x)\n",
    "x = layers.Dense(1028, activation = \"relu\")(x)\n",
    "output_tensor = layers.Dense(2, activation = \"softmax\")(x)\n",
    "\n",
    "model = tf.keras.Model(input_tensor, output_tensor)\n",
    "model.compile(optimizer = optimizer, loss = \"binary_crossentropy\", metrics = [auc, \"accuracy\"])"
   ]
  },
  {
   "cell_type": "markdown",
   "metadata": {},
   "source": [
    "## Configuring model properties"
   ]
  },
  {
   "cell_type": "code",
   "execution_count": null,
   "metadata": {},
   "outputs": [],
   "source": [
    "model_filename = BASE_DIRECTORY + \"gunshot_sound_model.pkl\"\n",
    "\n",
    "model_callbacks = [\n",
    "    EarlyStopping(monitor = 'val_acc',\n",
    "                  patience = 15,\n",
    "                  verbose = 1,\n",
    "                  mode = 'max'),\n",
    "    \n",
    "    ModelCheckpoint(model_filename, monitor = 'val_acc',\n",
    "                    verbose = 1,\n",
    "                    save_best_only = True,\n",
    "                    mode = 'max'),\n",
    "]"
   ]
  },
  {
   "cell_type": "markdown",
   "metadata": {},
   "source": [
    "### Debugging of the model's architecture (optional)"
   ]
  },
  {
   "cell_type": "code",
   "execution_count": null,
   "metadata": {},
   "outputs": [],
   "source": [
    "print(model.summary())"
   ]
  },
  {
   "cell_type": "markdown",
   "metadata": {},
   "source": [
    "## Training & caching the model"
   ]
  },
  {
   "cell_type": "code",
   "execution_count": null,
   "metadata": {},
   "outputs": [],
   "source": [
    "History = model.fit(train_wav, train_label, \n",
    "          validation_data = [test_wav, test_label],\n",
    "          epochs = number_of_epochs,\n",
    "          callbacks = model_callbacks,\n",
    "          verbose = 1,\n",
    "          batch_size = batch_size,\n",
    "          sample_weight = train_weights,\n",
    "          shuffle = True)\n",
    "\n",
    "model.save(BASE_DIRECTORY + \"gunshot_sound_model.h5\")"
   ]
  },
  {
   "cell_type": "markdown",
   "metadata": {},
   "source": [
    "## Summarizing history for accuracy"
   ]
  },
  {
   "cell_type": "code",
   "execution_count": null,
   "metadata": {},
   "outputs": [],
   "source": [
    "plt.plot(History.history['acc'])\n",
    "plt.plot(History.history['val_acc'])\n",
    "plt.title('Model Accuracy')\n",
    "plt.ylabel('Accuracy')\n",
    "plt.xlabel('Epoch')\n",
    "plt.legend(['Train', 'Test'], loc = 'upper left')\n",
    "plt.show()"
   ]
  },
  {
   "cell_type": "markdown",
   "metadata": {},
   "source": [
    "## Summarizing history for loss"
   ]
  },
  {
   "cell_type": "code",
   "execution_count": null,
   "metadata": {},
   "outputs": [],
   "source": [
    "plt.plot(History.history['loss'])\n",
    "plt.plot(History.history['val_loss'])\n",
    "plt.title('Model Loss')\n",
    "plt.ylabel('Loss')\n",
    "plt.xlabel('Epoch')\n",
    "plt.legend(['Train', 'Test'], loc = 'upper left')\n",
    "plt.show()"
   ]
  },
  {
   "cell_type": "markdown",
   "metadata": {},
   "source": [
    "### Debugging of incorrectly-labeled examples (optional)"
   ]
  },
  {
   "cell_type": "code",
   "execution_count": null,
   "metadata": {},
   "outputs": [],
   "source": [
    "y_val_pred = model.predict(valid_wav)\n",
    "y_predicted_classes_val = y_val_pred.argmax(axis=-1)\n",
    "y_actual_classes_val = valid_label.argmax(axis=-1)\n",
    "wrong_examples = np.nonzero(y_predicted_classes_val != y_actual_classes_val)\n",
    "print(\"Validation samples labeled incorrectly:\", wrong_examples)\n",
    "print(\"Validation accuracy of the current model:\", 100 - (len(wrong_examples[0]) / len(valid_wav)) * 100)"
   ]
  },
  {
   "cell_type": "markdown",
   "metadata": {},
   "source": [
    "### Debugging of an individual incorrectly-labeled example (optional)"
   ]
  },
  {
   "cell_type": "code",
   "execution_count": null,
   "metadata": {},
   "outputs": [],
   "source": [
    "i = 0\n",
    "sample = np.reshape(val_wav[i], SAMPLE_RATE_PER_TWO_SECONDS, )\n",
    "print(y_actual_classes_val[i], y_predicted_classes_val[i])\n",
    "ipd.Audio(sample, rate = SAMPLE_RATE_PER_SECOND)"
   ]
  },
  {
   "cell_type": "markdown",
   "metadata": {},
   "source": [
    "### Converting labels back into strings"
   ]
  },
  {
   "cell_type": "code",
   "execution_count": null,
   "metadata": {},
   "outputs": [],
   "source": [
    "print(label_binarizer.inverse_transform(labels[:, 0]))"
   ]
  },
  {
   "cell_type": "markdown",
   "metadata": {},
   "source": [
    "## Converting model to TensorFlow Lite format"
   ]
  },
  {
   "cell_type": "code",
   "execution_count": null,
   "metadata": {},
   "outputs": [],
   "source": [
    "model_name = BASE_DIRECTORY + \"gunshot_sound_model\"\n",
    "converter = tf.lite.TFLiteConverter.from_keras_model_file(model_name + \".h5\", custom_objects = {\"auc\" : auc})\n",
    "tflite_model = converter.convert()\n",
    "open(model_name + \".tflite\", \"wb\").write(tflite_model)"
   ]
  }
 ],
 "metadata": {
  "kernelspec": {
   "display_name": "gunshot_detection",
   "language": "python",
   "name": "gunshot_detection"
  },
  "language_info": {
   "codemirror_mode": {
    "name": "ipython",
    "version": 3
   },
   "file_extension": ".py",
   "mimetype": "text/x-python",
   "name": "python",
   "nbconvert_exporter": "python",
   "pygments_lexer": "ipython3",
   "version": "3.7.3"
  },
  "pycharm": {
   "stem_cell": {
    "cell_type": "raw",
    "metadata": {
     "collapsed": false
    },
    "source": []
   }
  }
 },
 "nbformat": 4,
 "nbformat_minor": 2
}

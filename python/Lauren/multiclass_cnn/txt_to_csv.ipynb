{
 "cells": [
  {
   "cell_type": "code",
   "execution_count": 25,
   "metadata": {},
   "outputs": [],
   "source": [
    "#takes a text file containing all incorrectly predicted samples, generated from model_testing_multiclass\n",
    "#turns it into 3 csv files:\n",
    "    #gunshots incorrectly labeled\n",
    "    #other things incorrectly labeled as gunshots\n",
    "    #all others\n",
    "\n",
    "import csv\n"
   ]
  },
  {
   "cell_type": "code",
   "execution_count": 26,
   "metadata": {},
   "outputs": [],
   "source": [
    "base_dir = \"/Users/laurenogden/Downloads/\"\n",
    "\n",
    "#open the text file\n",
    "txt_file = open(base_dir + \"testing_results/incorrect_samples.txt\", \"r\")\n",
    "\n"
   ]
  },
  {
   "cell_type": "code",
   "execution_count": 27,
   "metadata": {},
   "outputs": [],
   "source": [
    "#csv file for actual gunshot samples\n",
    "gun_csv = open(base_dir + \"incorrect_gunshot_samples.csv\", mode=\"w\")\n",
    "#csv file for things incorrectly classified as gunshots\n",
    "false_gun_csv = open(base_dir + \"incorrect_false_gunshot_samples.csv\", mode=\"w\")\n",
    "#csv file for all other things it got wrong\n",
    "all_others = open(base_dir + \"incorrect_other_samples.csv\", mode=\"w\")"
   ]
  },
  {
   "cell_type": "code",
   "execution_count": 29,
   "metadata": {},
   "outputs": [],
   "source": [
    "#to write to a csv file\n",
    "gun_writer = csv.writer(gun_csv, delimiter=\",\", quotechar='\"', quoting=csv.QUOTE_MINIMAL)\n",
    "false_gun_writer = csv.writer(false_gun_csv, delimiter=\",\", quotechar='\"', quoting=csv.QUOTE_MINIMAL)\n",
    "others_writer = csv.writer(all_others, delimiter=\",\", quotechar='\"', quoting=csv.QUOTE_MINIMAL)\n",
    "while True:\n",
    "    filename = txt_file.readline().replace(\"filename: \", \"\")\n",
    "    if filename == \"\":\n",
    "        break\n",
    "    actual = txt_file.readline().replace(\"actual label: \", \"\")\n",
    "    predicted = txt_file.readline().replace(\"predicted label: \", \"\")\n",
    "    if \"1\" in actual:\n",
    "        gun_writer.writerow([filename, actual, predicted])\n",
    "    elif \"1\" in predicted:\n",
    "        false_gun_writer.writerow([filename, actual, predicted])\n",
    "    else:\n",
    "        others_writer.writerow([filename, actual, predicted])\n",
    "\n"
   ]
  }
 ],
 "metadata": {
  "kernelspec": {
   "display_name": "Python 3",
   "language": "python",
   "name": "python3"
  },
  "language_info": {
   "codemirror_mode": {
    "name": "ipython",
    "version": 3
   },
   "file_extension": ".py",
   "mimetype": "text/x-python",
   "name": "python",
   "nbconvert_exporter": "python",
   "pygments_lexer": "ipython3",
   "version": "3.7.3"
  }
 },
 "nbformat": 4,
 "nbformat_minor": 2
}

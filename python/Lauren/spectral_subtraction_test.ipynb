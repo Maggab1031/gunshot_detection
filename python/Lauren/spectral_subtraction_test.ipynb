{
 "cells": [
  {
   "cell_type": "code",
   "execution_count": 1,
   "metadata": {},
   "outputs": [],
   "source": [
    "# Spectral Subtraction Test\n",
    "    #https://github.com/shun60s/spectral-subtraction/blob/master/ss1.py"
   ]
  },
  {
   "cell_type": "code",
   "execution_count": 2,
   "metadata": {},
   "outputs": [],
   "source": [
    "#imports\n",
    "import numpy as np\n",
    "import scipy\n",
    "import librosa"
   ]
  },
  {
   "cell_type": "code",
   "execution_count": 13,
   "metadata": {},
   "outputs": [],
   "source": [
    "#infile: input wav file including noise\n",
    "#outfile: output wav file\n",
    "#noisefile: noise only wav file, that is some (noise only) portion of input wav edited by manual (ex: Audacity)\n",
    "\n",
    "\n",
    "# edit following wav file name\n",
    "infile=\"/Users/laurenogden/Downloads/gun2.wav\"\n",
    "outfile=\"/Users/laurenogden/Downloads/gun2_no_noise.wav\"\n",
    "noisefile=\"/Users/laurenogden/Downloads/noise.wav\"\n"
   ]
  },
  {
   "cell_type": "code",
   "execution_count": 14,
   "metadata": {},
   "outputs": [
    {
     "name": "stdout",
     "output_type": "stream",
     "text": [
      "load wav /Users/laurenogden/Downloads/gun2.wav\n"
     ]
    }
   ],
   "source": [
    "\n",
    "# load input file, and stft (Short-time Fourier transform)\n",
    "print ('load wav', infile)\n",
    "w, sr = librosa.load( infile, sr=None, mono=True) # keep native sr (sampling rate) and trans into mono\n",
    "s= librosa.stft(w)    # Short-time Fourier transform\n",
    "ss= np.abs(s)         # get magnitude\n",
    "angle= np.angle(s)    # get phase\n",
    "b=np.exp(1.0j* angle) # use this phase information when Inverse Transform\n",
    "\n"
   ]
  },
  {
   "cell_type": "code",
   "execution_count": 15,
   "metadata": {},
   "outputs": [
    {
     "name": "stdout",
     "output_type": "stream",
     "text": [
      "load wav /Users/laurenogden/Downloads/noise.wav\n"
     ]
    }
   ],
   "source": [
    "# load noise only file, stft, and get mean\n",
    "print ('load wav', noisefile)\n",
    "nw, nsr = librosa.load( noisefile, sr=None, mono=True)\n",
    "ns= librosa.stft(nw) \n",
    "nss= np.abs(ns)\n",
    "mns= np.mean(nss, axis=1) # get mean\n",
    "\n"
   ]
  },
  {
   "cell_type": "code",
   "execution_count": 16,
   "metadata": {},
   "outputs": [],
   "source": [
    "# subtract noise spectral mean from input spectral, and istft (Inverse Short-Time Fourier Transform)\n",
    "sa= ss - mns.reshape((mns.shape[0],1))  # reshape for broadcast to subtract\n",
    "sa0= sa * b  # apply phase information\n",
    "y= librosa.istft(sa0) # back to time domain signal\n",
    "\n"
   ]
  },
  {
   "cell_type": "code",
   "execution_count": 17,
   "metadata": {},
   "outputs": [
    {
     "name": "stdout",
     "output_type": "stream",
     "text": [
      "write wav /Users/laurenogden/Downloads/gun2_no_noise.wav\n"
     ]
    }
   ],
   "source": [
    "# save as a wav file\n",
    "scipy.io.wavfile.write(outfile, sr, (y * 32768).astype(np.int16)) # save signed 16-bit WAV format\n",
    "#librosa.output.write_wav(outfile, y , sr)  # save 32-bit floating-point WAV format, due to y is float \n",
    "print ('write wav', outfile)"
   ]
  },
  {
   "cell_type": "code",
   "execution_count": null,
   "metadata": {},
   "outputs": [],
   "source": []
  }
 ],
 "metadata": {
  "kernelspec": {
   "display_name": "Python 3",
   "language": "python",
   "name": "python3"
  },
  "language_info": {
   "codemirror_mode": {
    "name": "ipython",
    "version": 3
   },
   "file_extension": ".py",
   "mimetype": "text/x-python",
   "name": "python",
   "nbconvert_exporter": "python",
   "pygments_lexer": "ipython3",
   "version": "3.7.3"
  }
 },
 "nbformat": 4,
 "nbformat_minor": 2
}

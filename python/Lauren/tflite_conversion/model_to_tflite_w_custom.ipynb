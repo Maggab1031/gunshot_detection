{
 "cells": [
  {
   "cell_type": "code",
   "execution_count": 7,
   "metadata": {},
   "outputs": [],
   "source": [
    "#Turns a .h5 model file using custom metric into a TFLite flat buffer \n",
    "\n",
    "\n",
    "#see\n",
    "    #https://www.tensorflow.org/lite/convert/python_api\n",
    "    #https://www.tensorflow.org/lite/performance/post_training_quantization\n",
    "    #https://www.tensorflow.org/lite/microcontrollers/build_convert#operation-support\n",
    "    #https://www.tensorflow.org/versions/r1.14/api_docs/python/tf/lite/TFLiteConverter\n",
    "    #https://github.com/keras-team/keras/issues/10104\n",
    "\n",
    "#imports\n",
    "\n",
    "import tensorflow as tf\n",
    "from tensorflow.keras.models import load_model\n",
    "import tensorflow.lite\n",
    "from tensorflow.keras import backend as K\n",
    "from tensorflow.keras.models import load_model\n",
    "import numpy as np\n"
   ]
  },
  {
   "cell_type": "code",
   "execution_count": 8,
   "metadata": {},
   "outputs": [],
   "source": [
    "# custom metric: auc\n",
    "\n",
    "def auc(y_true, y_pred):\n",
    "    auc = tf.metrics.auc(y_true, y_pred)[1]\n",
    "    K.get_session().run(tf.local_variables_initializer())\n",
    "    return auc\n",
    "\n"
   ]
  },
  {
   "cell_type": "code",
   "execution_count": 24,
   "metadata": {},
   "outputs": [
    {
     "name": "stdout",
     "output_type": "stream",
     "text": [
      "[{'name': 'input_1', 'index': 46, 'shape': array([    1, 44100,     1], dtype=int32), 'dtype': <class 'numpy.float32'>, 'quantization': (0.0, 0)}]\n",
      "<class 'numpy.ndarray'>\n",
      "<class 'numpy.ndarray'>\n",
      "<class 'numpy.ndarray'>\n",
      "[[1.0000000e+00 8.4182965e-26]]\n",
      "{'name': 'dense_2/Softmax', 'index': 42, 'shape': array([1, 2], dtype=int32), 'dtype': <class 'numpy.float32'>, 'quantization': (0.0, 0)}\n",
      "42\n"
     ]
    }
   ],
   "source": [
    "\n",
    "model_name = \"/Users/laurenogden/gunshot_detection/raspberry_pi/models/gunshot_sound_model.h5\"\n",
    "converted_name = \"/Users/laurenogden/gunshot_detection/raspberry_pi/models/converted_gunshot_sound_model.tflite\"\n",
    "\n",
    "custom_objects={\"auc\": auc}\n",
    "\n",
    "\n",
    "interpreter = tf.lite.Interpreter(model_path=converted_name)\n",
    "interpreter.allocate_tensors()\n",
    "\n",
    "# Get input and output tensors.\n",
    "input_details = interpreter.get_input_details()\n",
    "output_details = interpreter.get_output_details()\n",
    "print(input_details)\n",
    "print(type(input_details[0]['shape']))\n",
    "\n",
    "# Test model on random input data.\n",
    "input_shape = input_details[0]['shape']\n",
    "input_data = np.array(np.random.random_sample(input_shape), dtype=np.float32)\n",
    "interpreter.set_tensor(input_details[0]['index'], input_data)\n",
    "print(type(input_shape))\n",
    "print(type(input_data))\n",
    "\n",
    "\n",
    "interpreter.invoke()\n",
    "\n",
    "# The function `get_tensor()` returns a copy of the tensor data.\n",
    "# Use `tensor()` in order to get a pointer to the tensor.\n",
    "output_data = interpreter.get_tensor(output_details[0]['index'])\n",
    "print(output_data)\n",
    "print(output_details[0])\n",
    "print(output_details[0]['index'])\n",
    "\n",
    "\n",
    "\n"
   ]
  },
  {
   "cell_type": "code",
   "execution_count": null,
   "metadata": {},
   "outputs": [],
   "source": [
    "model = load_model(model_name, custom_objects)\n",
    "\n",
    "\n",
    "converter = tf.lite.TFLiteConverter.from_keras_model_file(model_name, custom_objects)\n",
    "print(\"\\n made the converter using from_keras_model \\n\")\n",
    "\n",
    "#post-training quantization\n",
    "#converter.optimizations = [tf.lite.Optimize.OPTIMIZE_FOR_SIZE]\n",
    "#print(\" did post training quantization \\n\")\n",
    "\n",
    "#convert\n",
    "tflite_model = converter.convert()\n",
    "print(\" converted successfully \\n\")\n",
    "\n",
    "#save\n",
    "open(\"/Users/laurenogden/gunshot_detection/raspberry_pi/models/converted_gunshot_sound_model.tflite\", \"wb\").write(tflite_model)\n",
    "print(\" saved successfully \\n\")"
   ]
  },
  {
   "cell_type": "code",
   "execution_count": null,
   "metadata": {},
   "outputs": [],
   "source": []
  }
 ],
 "metadata": {
  "kernelspec": {
   "display_name": "Python 3",
   "language": "python",
   "name": "python3"
  },
  "language_info": {
   "codemirror_mode": {
    "name": "ipython",
    "version": 3
   },
   "file_extension": ".py",
   "mimetype": "text/x-python",
   "name": "python",
   "nbconvert_exporter": "python",
   "pygments_lexer": "ipython3",
   "version": "3.7.3"
  }
 },
 "nbformat": 4,
 "nbformat_minor": 2
}

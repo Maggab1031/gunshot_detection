{
 "cells": [
  {
   "cell_type": "code",
   "execution_count": 17,
   "metadata": {},
   "outputs": [],
   "source": [
    "#see\n",
    "    #https://www.tensorflow.org/lite/convert/python_api\n",
    "    #https://www.tensorflow.org/lite/performance/post_training_quantization\n",
    "    #https://www.tensorflow.org/lite/microcontrollers/build_convert#operation-support\n",
    "\n",
    "#imports\n",
    "\n",
    "import tensorflow as tf\n",
    "from tensorflow.keras.models import load_model\n",
    "import tensorflow.lite\n"
   ]
  },
  {
   "cell_type": "code",
   "execution_count": null,
   "metadata": {},
   "outputs": [],
   "source": [
    "#Turns a .h5 model file into a TFLite flat buffer\n",
    "\n",
    "\n",
    "#print(\"version of tensorflow:\")\n",
    "#print(tf.__version__)\n",
    "\n",
    "\n",
    "model_name = \"/home/lauogden/models/gunshot_sound_model.h5\"\n",
    "\n",
    "converter = tf.lite.TFLiteConverter.from_keras_model_file(model_name)\n",
    "print(\"\\n made the converter using from_keras_model \\n\")\n",
    "\n",
    "#post-training quantization\n",
    "converter.optimizations = [tf.lite.Optimize.OPTIMIZE_FOR_SIZE]\n",
    "print(\" did post training quantization \\n\")\n",
    "\n",
    "#convert\n",
    "tflite_model = converter.convert()\n",
    "print(\" converted successfully \\n\")\n",
    "\n",
    "#save\n",
    "open(\"/home/lauogden/models/converted_gunshot_model_ptq.tflite\", \"wb\").write(tflite_model)\n",
    "print(\" saved successfully \\n\")\n"
   ]
  }
 ],
 "metadata": {
  "kernelspec": {
   "display_name": "Python 3",
   "language": "python",
   "name": "python3"
  },
  "language_info": {
   "codemirror_mode": {
    "name": "ipython",
    "version": 3
   },
   "file_extension": ".py",
   "mimetype": "text/x-python",
   "name": "python",
   "nbconvert_exporter": "python",
   "pygments_lexer": "ipython3",
   "version": "3.7.3"
  }
 },
 "nbformat": 4,
 "nbformat_minor": 2
}

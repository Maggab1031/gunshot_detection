{
 "cells": [
  {
   "cell_type": "markdown",
   "metadata": {},
   "source": [
    "# Library Imports"
   ]
  },
  {
   "cell_type": "code",
   "execution_count": 3,
   "metadata": {},
   "outputs": [
    {
     "data": {
      "text/html": [
       "        <script type=\"text/javascript\">\n",
       "        window.PlotlyConfig = {MathJaxConfig: 'local'};\n",
       "        if (window.MathJax) {MathJax.Hub.Config({SVG: {font: \"STIX-Web\"}});}\n",
       "        if (typeof require !== 'undefined') {\n",
       "        require.undef(\"plotly\");\n",
       "        requirejs.config({\n",
       "            paths: {\n",
       "                'plotly': ['https://cdn.plot.ly/plotly-latest.min']\n",
       "            }\n",
       "        });\n",
       "        require(['plotly'], function(Plotly) {\n",
       "            window._Plotly = Plotly;\n",
       "        });\n",
       "        }\n",
       "        </script>\n",
       "        "
      ]
     },
     "metadata": {},
     "output_type": "display_data"
    }
   ],
   "source": [
    "# File Directory \n",
    "import glob\n",
    "import os\n",
    "from os.path import isdir, join\n",
    "from pathlib import Path\n",
    "\n",
    "# Math\n",
    "import numpy as np\n",
    "from scipy.fftpack import fft\n",
    "from scipy import signal\n",
    "\n",
    "# Dimension Reduction\n",
    "from sklearn.decomposition import PCA\n",
    "\n",
    "# Visualization\n",
    "import matplotlib.pyplot as plt\n",
    "import seaborn as sns\n",
    "import IPython.display as ipd\n",
    "import librosa.display\n",
    "import plotly.offline as py\n",
    "import plotly.graph_objs as go\n",
    "import plotly.tools as tls\n",
    "\n",
    "# Data Pre-processing\n",
    "import pandas as pd\n",
    "from sklearn.model_selection import KFold\n",
    "import librosa\n",
    "import soundfile\n",
    "import re\n",
    "\n",
    "# Deep Learning\n",
    "import tensorflow as tf\n",
    "import tensorflow.keras as keras\n",
    "from tensorflow.keras.layers import Dense, Dropout, Flatten\n",
    "from tensorflow.keras import Input, layers\n",
    "from tensorflow.keras import backend as K\n",
    "\n",
    "\n",
    "\n",
    "from keras.activations import relu, softmax\n",
    "from keras.layers import (Convolution1D, Dense, Dropout, GlobalAveragePooling1D, \n",
    "                          GlobalMaxPool1D, Input, MaxPool1D, concatenate)\n",
    "from keras import losses, models, optimizers\n",
    "from keras.callbacks import (EarlyStopping, LearningRateScheduler,\n",
    "                             ModelCheckpoint, TensorBoard, ReduceLROnPlateau)\n",
    "\n",
    "\n",
    "\n",
    "# Configuration\n",
    "py.init_notebook_mode(connected=True)\n",
    "%matplotlib inline"
   ]
  },
  {
   "cell_type": "markdown",
   "metadata": {},
   "source": [
    "# Data"
   ]
  },
  {
   "cell_type": "code",
   "execution_count": 4,
   "metadata": {},
   "outputs": [],
   "source": [
    "samples=[]\n",
    "labels = []\n",
    "sampling_rate_per_two_seconds = 44100\n",
    "input_shape = (sampling_rate_per_two_seconds, 1)"
   ]
  },
  {
   "cell_type": "code",
   "execution_count": 5,
   "metadata": {},
   "outputs": [],
   "source": [
    "#load the data from the files as numpy arrays\n",
    "samples = np.load(\"/home/lauogden/data/gunshot_sound_samples.npy\")\n",
    "labels = np.load(\"/home/lauogden/data/gunshot_sound_labels.npy\")"
   ]
  },
  {
   "cell_type": "code",
   "execution_count": null,
   "metadata": {},
   "outputs": [],
   "source": [
    "print(\"There are \" + str(len(samples)) + \" samples.\")\n",
    "print(\"There are \" + str(len(labels)) + \" labels.\")"
   ]
  },
  {
   "cell_type": "markdown",
   "metadata": {},
   "source": [
    "# Split Data"
   ]
  },
  {
   "cell_type": "code",
   "execution_count": 6,
   "metadata": {},
   "outputs": [],
   "source": [
    "#train test split\n",
    "\n",
    "kf = KFold(n_splits=3, shuffle=True)\n",
    "samples = np.array(samples)\n",
    "labels = np.array(labels)\n",
    "for train_index, test_index in kf.split(samples):\n",
    "    train_wav, test_wav = samples[train_index], samples[test_index]\n",
    "    train_label, test_label = labels[train_index], labels[test_index]"
   ]
  },
  {
   "cell_type": "code",
   "execution_count": 9,
   "metadata": {},
   "outputs": [],
   "source": [
    "#Reshape data\n",
    "train_wav = train_wav.reshape(-1,44100,1)\n",
    "test_wav = test_wav.reshape(-1,44100,1)\n",
    "train_label = keras.utils.to_categorical(train_label, 2)\n",
    "test_label = keras.utils.to_categorical(test_label, 2)"
   ]
  },
  {
   "cell_type": "code",
   "execution_count": null,
   "metadata": {},
   "outputs": [],
   "source": [
    "print(train_wav.shape)"
   ]
  },
  {
   "cell_type": "markdown",
   "metadata": {},
   "source": [
    "# Model"
   ]
  },
  {
   "cell_type": "code",
   "execution_count": 10,
   "metadata": {},
   "outputs": [],
   "source": [
    "# Parameters\n",
    "lr = 0.001\n",
    "batch_size = 32\n",
    "drop_out_rate = 0.2"
   ]
  },
  {
   "cell_type": "code",
   "execution_count": 11,
   "metadata": {},
   "outputs": [
    {
     "name": "stdout",
     "output_type": "stream",
     "text": [
      "WARNING:tensorflow:From /Library/Frameworks/Python.framework/Versions/3.7/lib/python3.7/site-packages/tensorflow/python/ops/resource_variable_ops.py:435: colocate_with (from tensorflow.python.framework.ops) is deprecated and will be removed in a future version.\n",
      "Instructions for updating:\n",
      "Colocations handled automatically by placer.\n"
     ]
    },
    {
     "ename": "AttributeError",
     "evalue": "'InputLayer' object has no attribute 'outbound_nodes'",
     "output_type": "error",
     "traceback": [
      "\u001b[0;31m---------------------------------------------------------------------------\u001b[0m",
      "\u001b[0;31mAttributeError\u001b[0m                            Traceback (most recent call last)",
      "\u001b[0;32m<ipython-input-11-362aec7624d9>\u001b[0m in \u001b[0;36m<module>\u001b[0;34m\u001b[0m\n\u001b[1;32m      1\u001b[0m \u001b[0minput_tensor\u001b[0m \u001b[0;34m=\u001b[0m \u001b[0mInput\u001b[0m\u001b[0;34m(\u001b[0m\u001b[0mshape\u001b[0m\u001b[0;34m=\u001b[0m\u001b[0minput_shape\u001b[0m\u001b[0;34m)\u001b[0m\u001b[0;34m\u001b[0m\u001b[0;34m\u001b[0m\u001b[0m\n\u001b[1;32m      2\u001b[0m \u001b[0;34m\u001b[0m\u001b[0m\n\u001b[0;32m----> 3\u001b[0;31m \u001b[0mx\u001b[0m \u001b[0;34m=\u001b[0m \u001b[0mlayers\u001b[0m\u001b[0;34m.\u001b[0m\u001b[0mConv1D\u001b[0m\u001b[0;34m(\u001b[0m\u001b[0;36m8\u001b[0m\u001b[0;34m,\u001b[0m \u001b[0;36m11\u001b[0m\u001b[0;34m,\u001b[0m \u001b[0mpadding\u001b[0m\u001b[0;34m=\u001b[0m\u001b[0;34m'valid'\u001b[0m\u001b[0;34m,\u001b[0m \u001b[0mactivation\u001b[0m\u001b[0;34m=\u001b[0m\u001b[0;34m'relu'\u001b[0m\u001b[0;34m,\u001b[0m \u001b[0mstrides\u001b[0m\u001b[0;34m=\u001b[0m\u001b[0;36m1\u001b[0m\u001b[0;34m)\u001b[0m\u001b[0;34m(\u001b[0m\u001b[0minput_tensor\u001b[0m\u001b[0;34m)\u001b[0m\u001b[0;34m\u001b[0m\u001b[0;34m\u001b[0m\u001b[0m\n\u001b[0m\u001b[1;32m      4\u001b[0m \u001b[0mx\u001b[0m \u001b[0;34m=\u001b[0m \u001b[0mlayers\u001b[0m\u001b[0;34m.\u001b[0m\u001b[0mMaxPooling1D\u001b[0m\u001b[0;34m(\u001b[0m\u001b[0;36m2\u001b[0m\u001b[0;34m)\u001b[0m\u001b[0;34m(\u001b[0m\u001b[0mx\u001b[0m\u001b[0;34m)\u001b[0m\u001b[0;34m\u001b[0m\u001b[0;34m\u001b[0m\u001b[0m\n\u001b[1;32m      5\u001b[0m \u001b[0mx\u001b[0m \u001b[0;34m=\u001b[0m \u001b[0mlayers\u001b[0m\u001b[0;34m.\u001b[0m\u001b[0mConv1D\u001b[0m\u001b[0;34m(\u001b[0m\u001b[0;36m16\u001b[0m\u001b[0;34m,\u001b[0m \u001b[0;36m7\u001b[0m\u001b[0;34m,\u001b[0m \u001b[0mpadding\u001b[0m\u001b[0;34m=\u001b[0m\u001b[0;34m'valid'\u001b[0m\u001b[0;34m,\u001b[0m \u001b[0mactivation\u001b[0m\u001b[0;34m=\u001b[0m\u001b[0;34m'relu'\u001b[0m\u001b[0;34m,\u001b[0m \u001b[0mstrides\u001b[0m\u001b[0;34m=\u001b[0m\u001b[0;36m1\u001b[0m\u001b[0;34m)\u001b[0m\u001b[0;34m(\u001b[0m\u001b[0mx\u001b[0m\u001b[0;34m)\u001b[0m\u001b[0;34m\u001b[0m\u001b[0;34m\u001b[0m\u001b[0m\n",
      "\u001b[0;32m/Library/Frameworks/Python.framework/Versions/3.7/lib/python3.7/site-packages/tensorflow/python/keras/engine/base_layer.py\u001b[0m in \u001b[0;36m__call__\u001b[0;34m(self, inputs, *args, **kwargs)\u001b[0m\n\u001b[1;32m    582\u001b[0m           \u001b[0;32mif\u001b[0m \u001b[0mbase_layer_utils\u001b[0m\u001b[0;34m.\u001b[0m\u001b[0mhave_all_keras_metadata\u001b[0m\u001b[0;34m(\u001b[0m\u001b[0minputs\u001b[0m\u001b[0;34m)\u001b[0m\u001b[0;34m:\u001b[0m\u001b[0;34m\u001b[0m\u001b[0;34m\u001b[0m\u001b[0m\n\u001b[1;32m    583\u001b[0m             inputs, outputs = self._set_connectivity_metadata_(\n\u001b[0;32m--> 584\u001b[0;31m                 inputs, outputs, args, kwargs)\n\u001b[0m\u001b[1;32m    585\u001b[0m           \u001b[0;32mif\u001b[0m \u001b[0mhasattr\u001b[0m\u001b[0;34m(\u001b[0m\u001b[0mself\u001b[0m\u001b[0;34m,\u001b[0m \u001b[0;34m'_set_inputs'\u001b[0m\u001b[0;34m)\u001b[0m \u001b[0;32mand\u001b[0m \u001b[0;32mnot\u001b[0m \u001b[0mself\u001b[0m\u001b[0;34m.\u001b[0m\u001b[0minputs\u001b[0m\u001b[0;34m:\u001b[0m\u001b[0;34m\u001b[0m\u001b[0;34m\u001b[0m\u001b[0m\n\u001b[1;32m    586\u001b[0m             \u001b[0;31m# Subclassed network: explicitly set metadata normally set by\u001b[0m\u001b[0;34m\u001b[0m\u001b[0;34m\u001b[0m\u001b[0;34m\u001b[0m\u001b[0m\n",
      "\u001b[0;32m/Library/Frameworks/Python.framework/Versions/3.7/lib/python3.7/site-packages/tensorflow/python/keras/engine/base_layer.py\u001b[0m in \u001b[0;36m_set_connectivity_metadata_\u001b[0;34m(self, inputs, outputs, args, kwargs)\u001b[0m\n\u001b[1;32m   1414\u001b[0m     \u001b[0mkwargs\u001b[0m\u001b[0;34m.\u001b[0m\u001b[0mpop\u001b[0m\u001b[0;34m(\u001b[0m\u001b[0;34m'mask'\u001b[0m\u001b[0;34m,\u001b[0m \u001b[0;32mNone\u001b[0m\u001b[0;34m)\u001b[0m  \u001b[0;31m# `mask` should not be serialized.\u001b[0m\u001b[0;34m\u001b[0m\u001b[0;34m\u001b[0m\u001b[0m\n\u001b[1;32m   1415\u001b[0m     self._add_inbound_node(\n\u001b[0;32m-> 1416\u001b[0;31m         input_tensors=inputs, output_tensors=outputs, arguments=kwargs)\n\u001b[0m\u001b[1;32m   1417\u001b[0m     \u001b[0;32mreturn\u001b[0m \u001b[0minputs\u001b[0m\u001b[0;34m,\u001b[0m \u001b[0moutputs\u001b[0m\u001b[0;34m\u001b[0m\u001b[0;34m\u001b[0m\u001b[0m\n\u001b[1;32m   1418\u001b[0m \u001b[0;34m\u001b[0m\u001b[0m\n",
      "\u001b[0;32m/Library/Frameworks/Python.framework/Versions/3.7/lib/python3.7/site-packages/tensorflow/python/keras/engine/base_layer.py\u001b[0m in \u001b[0;36m_add_inbound_node\u001b[0;34m(self, input_tensors, output_tensors, arguments)\u001b[0m\n\u001b[1;32m   1522\u001b[0m         \u001b[0minput_tensors\u001b[0m\u001b[0;34m=\u001b[0m\u001b[0minput_tensors\u001b[0m\u001b[0;34m,\u001b[0m\u001b[0;34m\u001b[0m\u001b[0;34m\u001b[0m\u001b[0m\n\u001b[1;32m   1523\u001b[0m         \u001b[0moutput_tensors\u001b[0m\u001b[0;34m=\u001b[0m\u001b[0moutput_tensors\u001b[0m\u001b[0;34m,\u001b[0m\u001b[0;34m\u001b[0m\u001b[0;34m\u001b[0m\u001b[0m\n\u001b[0;32m-> 1524\u001b[0;31m         arguments=arguments)\n\u001b[0m\u001b[1;32m   1525\u001b[0m \u001b[0;34m\u001b[0m\u001b[0m\n\u001b[1;32m   1526\u001b[0m     \u001b[0;31m# Update tensor history metadata.\u001b[0m\u001b[0;34m\u001b[0m\u001b[0;34m\u001b[0m\u001b[0;34m\u001b[0m\u001b[0m\n",
      "\u001b[0;32m/Library/Frameworks/Python.framework/Versions/3.7/lib/python3.7/site-packages/tensorflow/python/keras/engine/base_layer.py\u001b[0m in \u001b[0;36m__init__\u001b[0;34m(self, outbound_layer, inbound_layers, node_indices, tensor_indices, input_tensors, output_tensors, arguments)\u001b[0m\n\u001b[1;32m   1740\u001b[0m         \u001b[0;31m# For compatibility with external Keras, we use the deprecated\u001b[0m\u001b[0;34m\u001b[0m\u001b[0;34m\u001b[0m\u001b[0;34m\u001b[0m\u001b[0m\n\u001b[1;32m   1741\u001b[0m         \u001b[0;31m# accessor here.\u001b[0m\u001b[0;34m\u001b[0m\u001b[0;34m\u001b[0m\u001b[0;34m\u001b[0m\u001b[0m\n\u001b[0;32m-> 1742\u001b[0;31m         \u001b[0mlayer\u001b[0m\u001b[0;34m.\u001b[0m\u001b[0moutbound_nodes\u001b[0m\u001b[0;34m.\u001b[0m\u001b[0mappend\u001b[0m\u001b[0;34m(\u001b[0m\u001b[0mself\u001b[0m\u001b[0;34m)\u001b[0m\u001b[0;34m\u001b[0m\u001b[0;34m\u001b[0m\u001b[0m\n\u001b[0m\u001b[1;32m   1743\u001b[0m     \u001b[0;31m# For compatibility with external Keras, we use the deprecated\u001b[0m\u001b[0;34m\u001b[0m\u001b[0;34m\u001b[0m\u001b[0;34m\u001b[0m\u001b[0m\n\u001b[1;32m   1744\u001b[0m     \u001b[0;31m# accessor here.\u001b[0m\u001b[0;34m\u001b[0m\u001b[0;34m\u001b[0m\u001b[0;34m\u001b[0m\u001b[0m\n",
      "\u001b[0;31mAttributeError\u001b[0m: 'InputLayer' object has no attribute 'outbound_nodes'"
     ]
    }
   ],
   "source": [
    "input_tensor = Input(shape=input_shape)\n",
    "\n",
    "x = layers.Conv1D(8, 11, padding='valid', activation='relu', strides=1)(input_tensor)\n",
    "x = layers.MaxPooling1D(2)(x)\n",
    "x = layers.Conv1D(16, 7, padding='valid', activation='relu', strides=1)(x)\n",
    "x = layers.MaxPooling1D(4)(x)\n",
    "x = layers.Conv1D(32, 5, padding='valid', activation='relu', strides=1)(x)\n",
    "x = layers.MaxPooling1D(4)(x)\n",
    "x = layers.Conv1D(64, 5, padding='valid', activation='relu', strides=1)(x)\n",
    "x = layers.MaxPooling1D(6)(x)\n",
    "x = layers.Conv1D(128, 3, padding='valid', activation='relu', strides=1)(x)\n",
    "x = layers.MaxPooling1D(6)(x)\n",
    "x = layers.Conv1D(256, 3, padding='valid', activation='relu', strides=1)(x)\n",
    "x = layers.MaxPooling1D(6)(x)\n",
    "x = layers.Flatten()(x)\n",
    "x = layers.Dense(100, activation='relu')(x)\n",
    "x = layers.Dropout(drop_out_rate)(x)\n",
    "x = layers.Dense(50, activation='relu')(x)\n",
    "x = layers.Dropout(drop_out_rate)(x)\n",
    "x = layers.Dense(20, activation='relu')(x)\n",
    "output_tensor = layers.Dense(2, activation='softmax')(x)\n",
    "\n",
    "model = tf.keras.Model(input_tensor, output_tensor)\n",
    "\n",
    "model.compile(loss=keras.losses.categorical_crossentropy,\n",
    "             optimizer=keras.optimizers.Adam(lr = lr),\n",
    "             metrics=['accuracy'])"
   ]
  },
  {
   "cell_type": "code",
   "execution_count": null,
   "metadata": {},
   "outputs": [],
   "source": [
    "model_filename = '/home/lauogden/gunshot_cnn_model.pkl' \n",
    "\n",
    "# add callbacks to stop early if it stops improving\n",
    "\n",
    "callbacks = [\n",
    "    EarlyStopping(monitor='val_acc',\n",
    "                  patience=10,\n",
    "                  verbose=1,\n",
    "                  mode='auto'),\n",
    "    \n",
    "    ModelCheckpoint(model_filename, monitor='val_acc',\n",
    "                    verbose=1,\n",
    "                    save_best_only=True,\n",
    "                    mode='auto'),\n",
    "]"
   ]
  },
  {
   "cell_type": "code",
   "execution_count": 15,
   "metadata": {},
   "outputs": [
    {
     "name": "stdout",
     "output_type": "stream",
     "text": [
      "_________________________________________________________________\n",
      "Layer (type)                 Output Shape              Param #   \n",
      "=================================================================\n",
      "input_1 (InputLayer)         (None, 44100, 1)          0         \n",
      "_________________________________________________________________\n",
      "conv1d (Conv1D)              (None, 44090, 8)          96        \n",
      "_________________________________________________________________\n",
      "max_pooling1d (MaxPooling1D) (None, 22045, 8)          0         \n",
      "_________________________________________________________________\n",
      "conv1d_1 (Conv1D)            (None, 22039, 16)         912       \n",
      "_________________________________________________________________\n",
      "max_pooling1d_1 (MaxPooling1 (None, 5509, 16)          0         \n",
      "_________________________________________________________________\n",
      "conv1d_2 (Conv1D)            (None, 5505, 32)          2592      \n",
      "_________________________________________________________________\n",
      "max_pooling1d_2 (MaxPooling1 (None, 1376, 32)          0         \n",
      "_________________________________________________________________\n",
      "conv1d_3 (Conv1D)            (None, 1372, 64)          10304     \n",
      "_________________________________________________________________\n",
      "max_pooling1d_3 (MaxPooling1 (None, 228, 64)           0         \n",
      "_________________________________________________________________\n",
      "conv1d_4 (Conv1D)            (None, 226, 128)          24704     \n",
      "_________________________________________________________________\n",
      "max_pooling1d_4 (MaxPooling1 (None, 37, 128)           0         \n",
      "_________________________________________________________________\n",
      "conv1d_5 (Conv1D)            (None, 35, 256)           98560     \n",
      "_________________________________________________________________\n",
      "max_pooling1d_5 (MaxPooling1 (None, 5, 256)            0         \n",
      "_________________________________________________________________\n",
      "flatten (Flatten)            (None, 1280)              0         \n",
      "_________________________________________________________________\n",
      "dense (Dense)                (None, 100)               128100    \n",
      "_________________________________________________________________\n",
      "dropout (Dropout)            (None, 100)               0         \n",
      "_________________________________________________________________\n",
      "dense_1 (Dense)              (None, 50)                5050      \n",
      "_________________________________________________________________\n",
      "dropout_1 (Dropout)          (None, 50)                0         \n",
      "_________________________________________________________________\n",
      "dense_2 (Dense)              (None, 20)                1020      \n",
      "_________________________________________________________________\n",
      "dense_3 (Dense)              (None, 3)                 63        \n",
      "=================================================================\n",
      "Total params: 271,401\n",
      "Trainable params: 271,401\n",
      "Non-trainable params: 0\n",
      "_________________________________________________________________\n"
     ]
    }
   ],
   "source": [
    "model.summary()"
   ]
  },
  {
   "cell_type": "code",
   "execution_count": 16,
   "metadata": {},
   "outputs": [
    {
     "name": "stdout",
     "output_type": "stream",
     "text": [
      "Train on 579 samples, validate on 289 samples\n",
      "WARNING:tensorflow:From /usr/lib/python3.7/site-packages/tensorflow/python/ops/math_ops.py:3066: to_int32 (from tensorflow.python.ops.math_ops) is deprecated and will be removed in a future version.\n",
      "Instructions for updating:\n",
      "Use tf.cast instead.\n",
      "Epoch 1/50\n",
      "579/579 [==============================] - 4s 7ms/sample - loss: 1.0894 - acc: 0.4957 - val_loss: 1.0343 - val_acc: 0.6747\n",
      "Epoch 2/50\n",
      "579/579 [==============================] - 2s 3ms/sample - loss: 1.0312 - acc: 0.6546 - val_loss: 0.9374 - val_acc: 0.6851\n",
      "Epoch 3/50\n",
      "579/579 [==============================] - 2s 3ms/sample - loss: 0.9638 - acc: 0.6736 - val_loss: 0.8990 - val_acc: 0.7336\n",
      "Epoch 4/50\n",
      "579/579 [==============================] - 2s 3ms/sample - loss: 0.8959 - acc: 0.7772 - val_loss: 0.8288 - val_acc: 0.7647\n",
      "Epoch 5/50\n",
      "579/579 [==============================] - 2s 3ms/sample - loss: 0.8225 - acc: 0.7634 - val_loss: 0.7234 - val_acc: 0.7509\n",
      "Epoch 6/50\n",
      "579/579 [==============================] - 2s 3ms/sample - loss: 0.7007 - acc: 0.7720 - val_loss: 0.6365 - val_acc: 0.7647\n",
      "Epoch 7/50\n",
      "579/579 [==============================] - 2s 3ms/sample - loss: 0.6037 - acc: 0.7824 - val_loss: 0.5915 - val_acc: 0.7682\n",
      "Epoch 8/50\n",
      "579/579 [==============================] - 2s 3ms/sample - loss: 0.5679 - acc: 0.7962 - val_loss: 0.5448 - val_acc: 0.7647\n",
      "Epoch 9/50\n",
      "579/579 [==============================] - 2s 3ms/sample - loss: 0.5747 - acc: 0.7737 - val_loss: 0.5117 - val_acc: 0.7612\n",
      "Epoch 10/50\n",
      "579/579 [==============================] - 2s 3ms/sample - loss: 0.5303 - acc: 0.7945 - val_loss: 0.5012 - val_acc: 0.7647\n",
      "Epoch 11/50\n",
      "579/579 [==============================] - 2s 3ms/sample - loss: 0.5583 - acc: 0.7772 - val_loss: 0.4851 - val_acc: 0.7958\n",
      "Epoch 12/50\n",
      "579/579 [==============================] - 2s 3ms/sample - loss: 0.5356 - acc: 0.8083 - val_loss: 0.5257 - val_acc: 0.7751\n",
      "Epoch 13/50\n",
      "579/579 [==============================] - 2s 3ms/sample - loss: 0.5185 - acc: 0.8031 - val_loss: 0.4940 - val_acc: 0.7924\n",
      "Epoch 14/50\n",
      "579/579 [==============================] - 2s 3ms/sample - loss: 0.5063 - acc: 0.8014 - val_loss: 0.4834 - val_acc: 0.7993\n",
      "Epoch 15/50\n",
      "579/579 [==============================] - 2s 3ms/sample - loss: 0.4824 - acc: 0.8135 - val_loss: 0.5018 - val_acc: 0.7785\n",
      "Epoch 16/50\n",
      "579/579 [==============================] - 2s 3ms/sample - loss: 0.4945 - acc: 0.8169 - val_loss: 0.4955 - val_acc: 0.7924\n",
      "Epoch 17/50\n",
      "579/579 [==============================] - 2s 3ms/sample - loss: 0.4777 - acc: 0.8048 - val_loss: 0.4486 - val_acc: 0.8166\n",
      "Epoch 18/50\n",
      "579/579 [==============================] - 2s 3ms/sample - loss: 0.4554 - acc: 0.8273 - val_loss: 0.4416 - val_acc: 0.8235\n",
      "Epoch 19/50\n",
      "579/579 [==============================] - 2s 3ms/sample - loss: 0.4729 - acc: 0.8342 - val_loss: 0.4690 - val_acc: 0.8028\n",
      "Epoch 20/50\n",
      "579/579 [==============================] - 2s 3ms/sample - loss: 0.4597 - acc: 0.8325 - val_loss: 0.5022 - val_acc: 0.8062\n",
      "Epoch 21/50\n",
      "579/579 [==============================] - 2s 3ms/sample - loss: 0.4510 - acc: 0.8238 - val_loss: 0.4492 - val_acc: 0.8201\n",
      "Epoch 22/50\n",
      "579/579 [==============================] - 2s 3ms/sample - loss: 0.4495 - acc: 0.8290 - val_loss: 0.4461 - val_acc: 0.8235\n",
      "Epoch 23/50\n",
      "579/579 [==============================] - 2s 3ms/sample - loss: 0.4341 - acc: 0.8342 - val_loss: 0.4818 - val_acc: 0.8201\n",
      "Epoch 24/50\n",
      "579/579 [==============================] - 2s 3ms/sample - loss: 0.4277 - acc: 0.8342 - val_loss: 0.4605 - val_acc: 0.8304\n",
      "Epoch 25/50\n",
      "579/579 [==============================] - 2s 3ms/sample - loss: 0.3977 - acc: 0.8446 - val_loss: 0.4538 - val_acc: 0.8374\n",
      "Epoch 26/50\n",
      "579/579 [==============================] - 2s 3ms/sample - loss: 0.4025 - acc: 0.8497 - val_loss: 0.4396 - val_acc: 0.8443\n",
      "Epoch 27/50\n",
      "579/579 [==============================] - 2s 3ms/sample - loss: 0.4114 - acc: 0.8653 - val_loss: 0.4246 - val_acc: 0.8581\n",
      "Epoch 28/50\n",
      "579/579 [==============================] - 2s 3ms/sample - loss: 0.3906 - acc: 0.8722 - val_loss: 0.4168 - val_acc: 0.8478\n",
      "Epoch 29/50\n",
      "579/579 [==============================] - 2s 3ms/sample - loss: 0.3943 - acc: 0.8774 - val_loss: 0.4167 - val_acc: 0.8478\n",
      "Epoch 30/50\n",
      "579/579 [==============================] - 2s 3ms/sample - loss: 0.3626 - acc: 0.8895 - val_loss: 0.4611 - val_acc: 0.8339\n",
      "Epoch 31/50\n",
      "579/579 [==============================] - 2s 3ms/sample - loss: 0.3684 - acc: 0.8860 - val_loss: 0.4846 - val_acc: 0.8512\n",
      "Epoch 32/50\n",
      "579/579 [==============================] - 2s 3ms/sample - loss: 0.3649 - acc: 0.8877 - val_loss: 0.4225 - val_acc: 0.8685\n",
      "Epoch 33/50\n",
      "579/579 [==============================] - 2s 3ms/sample - loss: 0.3506 - acc: 0.8998 - val_loss: 0.3994 - val_acc: 0.8824\n",
      "Epoch 34/50\n",
      "579/579 [==============================] - 2s 3ms/sample - loss: 0.3349 - acc: 0.9016 - val_loss: 0.3974 - val_acc: 0.8858\n",
      "Epoch 35/50\n",
      "579/579 [==============================] - 2s 3ms/sample - loss: 0.3373 - acc: 0.9085 - val_loss: 0.4138 - val_acc: 0.8720\n",
      "Epoch 36/50\n",
      "579/579 [==============================] - 2s 3ms/sample - loss: 0.3207 - acc: 0.9016 - val_loss: 0.4431 - val_acc: 0.8720\n",
      "Epoch 37/50\n",
      "579/579 [==============================] - 2s 3ms/sample - loss: 0.3134 - acc: 0.9171 - val_loss: 0.4315 - val_acc: 0.8824\n",
      "Epoch 38/50\n",
      "579/579 [==============================] - 2s 3ms/sample - loss: 0.2929 - acc: 0.9188 - val_loss: 0.4306 - val_acc: 0.8962\n",
      "Epoch 39/50\n",
      "579/579 [==============================] - 2s 3ms/sample - loss: 0.3066 - acc: 0.9119 - val_loss: 0.4388 - val_acc: 0.8824\n",
      "Epoch 40/50\n",
      "579/579 [==============================] - 2s 3ms/sample - loss: 0.2942 - acc: 0.9136 - val_loss: 0.4257 - val_acc: 0.8789\n",
      "Epoch 41/50\n",
      "579/579 [==============================] - 2s 3ms/sample - loss: 0.2951 - acc: 0.9171 - val_loss: 0.4688 - val_acc: 0.8858\n",
      "Epoch 42/50\n",
      "579/579 [==============================] - 2s 3ms/sample - loss: 0.2960 - acc: 0.9102 - val_loss: 0.4155 - val_acc: 0.8927\n",
      "Epoch 43/50\n",
      "579/579 [==============================] - 2s 3ms/sample - loss: 0.3048 - acc: 0.9136 - val_loss: 0.4829 - val_acc: 0.8893\n",
      "Epoch 44/50\n",
      "579/579 [==============================] - 2s 3ms/sample - loss: 0.2890 - acc: 0.9171 - val_loss: 0.4200 - val_acc: 0.8858\n",
      "Epoch 45/50\n",
      "579/579 [==============================] - 2s 3ms/sample - loss: 0.2864 - acc: 0.9240 - val_loss: 0.4052 - val_acc: 0.9031\n",
      "Epoch 46/50\n",
      "579/579 [==============================] - 2s 3ms/sample - loss: 0.2730 - acc: 0.9188 - val_loss: 0.4399 - val_acc: 0.8962\n",
      "Epoch 47/50\n",
      "579/579 [==============================] - 2s 3ms/sample - loss: 0.2601 - acc: 0.9292 - val_loss: 0.4101 - val_acc: 0.8720\n",
      "Epoch 48/50\n",
      "579/579 [==============================] - 2s 3ms/sample - loss: 0.2861 - acc: 0.9257 - val_loss: 0.4456 - val_acc: 0.9031\n",
      "Epoch 49/50\n",
      "579/579 [==============================] - 2s 3ms/sample - loss: 0.2649 - acc: 0.9188 - val_loss: 0.3951 - val_acc: 0.9135\n",
      "Epoch 50/50\n",
      "579/579 [==============================] - 2s 3ms/sample - loss: 0.2674 - acc: 0.9188 - val_loss: 0.4051 - val_acc: 0.8824\n"
     ]
    },
    {
     "data": {
      "text/plain": [
       "<tensorflow.python.keras.callbacks.History at 0x7fa16d7596d8>"
      ]
     },
     "execution_count": 16,
     "metadata": {},
     "output_type": "execute_result"
    }
   ],
   "source": [
    "#model.load(\"/home/lauogden/gunshot_cnn_model.h5\")\n",
    "\n",
    "#FIT IT\n",
    "History = model.fit(train_wav, train_label, \n",
    "          validation_data=[test_wav, test_label],\n",
    "          epochs=50,\n",
    "          callbacks=model_callbacks,\n",
    "          verbose=1,\n",
    "          batch_size=batch_size,\n",
    "          shuffle=True)\n",
    "\n",
    "model.save(\"/home/lauogden/gunshot_cnn_model.h5\")\n"
   ]
  },
  {
   "cell_type": "code",
   "execution_count": 26,
   "metadata": {},
   "outputs": [
    {
     "name": "stdout",
     "output_type": "stream",
     "text": [
      "(289,)\n"
     ]
    }
   ],
   "source": [
    "#incorrectly predicted data samples\n",
    "Y_test_pred = model.predict(test_wav)\n",
    "y_predicted_classes_test = y_test_pred.argmax(axis=-1)\n",
    "y_actual_classes_test= test_label.argmax(axis=-1)\n",
    "wrong_examples = np.nonzero(y_predicted_classes_test != y_actual_classes_test)\n",
    "print(\"Wrong examples: \")\n",
    "print(wrong_examples)"
   ]
  }
 ],
 "metadata": {
  "kernelspec": {
   "display_name": "Python 3",
   "language": "python",
   "name": "python3"
  },
  "language_info": {
   "codemirror_mode": {
    "name": "ipython",
    "version": 3
   },
   "file_extension": ".py",
   "mimetype": "text/x-python",
   "name": "python",
   "nbconvert_exporter": "python",
   "pygments_lexer": "ipython3",
   "version": "3.7.3"
  }
 },
 "nbformat": 4,
 "nbformat_minor": 2
}

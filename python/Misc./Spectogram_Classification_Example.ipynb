{
 "cells": [
  {
   "cell_type": "code",
   "execution_count": 1,
   "metadata": {},
   "outputs": [
    {
     "name": "stderr",
     "output_type": "stream",
     "text": [
      "Using TensorFlow backend.\n"
     ]
    }
   ],
   "source": [
    "import os\n",
    "import librosa\n",
    "import librosa.display\n",
    "import pandas as pd\n",
    "import numpy as np\n",
    "import keras\n",
    "from keras.models import Sequential\n",
    "from keras.layers import Conv2D\n",
    "from keras.layers import MaxPooling2D\n",
    "from keras.layers import Dense, Dropout, Activation, Flatten\n",
    "from keras.optimizers import Adam\n",
    "from keras.layers.normalization import BatchNormalization\n",
    "from keras.callbacks import EarlyStopping, ModelCheckpoint\n",
    "import matplotlib.pyplot as plt\n",
    "from sklearn.model_selection import train_test_split\n",
    "from sklearn import metrics\n",
    "from sklearn.preprocessing import LabelBinarizer\n",
    "import cv2"
   ]
  },
  {
   "cell_type": "markdown",
   "metadata": {},
   "source": [
    "# Data Preprocessing"
   ]
  },
  {
   "cell_type": "code",
   "execution_count": 3,
   "metadata": {},
   "outputs": [],
   "source": [
    "def show(spectrogram):\n",
    "    plt.imshow(spectrogram)\n",
    "    plt.show()"
   ]
  },
  {
   "cell_type": "code",
   "execution_count": 42,
   "metadata": {},
   "outputs": [],
   "source": [
    "#Image shape of the generated spectrograms\n",
    "input_size = (224, 230)\n",
    "\n",
    "def get_spec(files):\n",
    "    path = 'path to files'\n",
    "    os.chdir(path)\n",
    "            \n",
    "    N = len(files)\n",
    "    data = np.zeros((N, input_size[0], input_size[1], 3))\n",
    "\n",
    "    for i in range(0, len(files), 1):\n",
    "        img = cv2.imread(files[i])\n",
    "        data[i] = img\n",
    "            \n",
    "    return data\n",
    "\n",
    "def shift_img(img, M):\n",
    "    img = cv2.imread(files[0])\n",
    "    rows, cols, _ = img.shape\n",
    "\n",
    "    dst = cv2.warpAffine(img,M,(cols,rows))\n",
    "    return dst\n",
    "\n",
    "def fit_y(y):\n",
    "    newy = []\n",
    "    for i in range(len(y)):\n",
    "        newy.append(y[i])\n",
    "        newy.append(y[i])\n",
    "        newy.append(y[i])\n",
    "        newy.append(y[i])\n",
    "    return np.array(newy)\n",
    "\n",
    "def time_shift(wav):\n",
    "    start_ = int(np.random.uniform(-4800,4800))\n",
    "    if start_ >= 0:\n",
    "        wav_time_shift = np.r_[wav[start_:], np.random.uniform(-0.001,0.001, start_)]\n",
    "    else:\n",
    "        wav_time_shift = np.r_[np.random.uniform(-0.001,0.001, -start_), wav[:start_]]\n",
    "    return wav_time_shift\n",
    "\n",
    "def speed_change(wav):\n",
    "    speed_rate = np.random.uniform(0.7,1.3)\n",
    "    wav_speed_tune = cv2.resize(wav, (1, int(len(wav) * speed_rate))).squeeze()\n",
    "    #print('speed rate: %.3f' % speed_rate, '(lower is faster)')\n",
    "    if len(wav_speed_tune) < len(wav):\n",
    "        pad_len = len(wav) - len(wav_speed_tune)\n",
    "        wav_speed_tune = np.r_[np.random.uniform(-0.001,0.001,int(pad_len/2)),\n",
    "                               wav_speed_tune,\n",
    "                               np.random.uniform(-0.001,0.001,int(np.ceil(pad_len/2)))]\n",
    "    else: \n",
    "        cut_len = len(wav_speed_tune) - len(wav)\n",
    "        wav_speed_tune = wav_speed_tune[int(cut_len/2):int(cut_len/2)+len(wav)]\n",
    "    return wav_speed_tune"
   ]
  },
  {
   "cell_type": "code",
   "execution_count": 43,
   "metadata": {},
   "outputs": [],
   "source": [
    "#TRAIN MODE NOW\n",
    "def create_spectrogram(filename,name):\n",
    "    plt.interactive(False)\n",
    "    clip1, sample_rate = librosa.load(filename, sr=None)\n",
    "    clip2 = time_shift(clip1)\n",
    "    clip3 = speed_change(clip1)\n",
    "    clip4 = speed_change(clip2)\n",
    "    save_spec(clip1, sample_rate, name + \"_0\")\n",
    "    save_spec(clip2, sample_rate, name + \"_1\")\n",
    "    save_spec(clip3, sample_rate, name + \"_2\")\n",
    "    save_spec(clip4, sample_rate, name + \"_3\")\n",
    "    \n",
    "def save_spec(clip, sample_rate, name):\n",
    "    plt.interactive(False)\n",
    "    \n",
    "    fig = plt.figure(figsize=[0.72,0.72])\n",
    "    ax = fig.add_subplot(111)\n",
    "    ax.axes.get_xaxis().set_visible(False)\n",
    "    ax.axes.get_yaxis().set_visible(False)\n",
    "    ax.set_frame_on(False)\n",
    "    \n",
    "    S = librosa.feature.melspectrogram(y=clip, sr=sample_rate)\n",
    "    librosa.display.specshow(librosa.power_to_db(S, ref=np.max))\n",
    "    filename  = 'path to new folder' + name + '.jpg'\n",
    "    plt.savefig(filename, dpi=400, bbox_inches='tight',pad_inches=0)\n",
    "    \n",
    "    plt.close()    \n",
    "    fig.clf()\n",
    "    plt.close(fig)\n",
    "    plt.close('all')\n",
    "    del filename,name,clip,sample_rate,fig,ax,S"
   ]
  },
  {
   "cell_type": "markdown",
   "metadata": {},
   "source": [
    "### Train spectogram creation"
   ]
  },
  {
   "cell_type": "markdown",
   "metadata": {},
   "source": [
    "#### Create spectrograms from the wav files. Augmentation multiplies the file count by 4"
   ]
  },
  {
   "cell_type": "code",
   "execution_count": null,
   "metadata": {},
   "outputs": [],
   "source": [
    "from os import listdir\n",
    "mypath = \"path to urban wav files\"\n",
    "dr = listdir(mypath)\n",
    "for i in range(len(dr)):\n",
    "    dr[i] = int(dr[i][:-4])\n",
    "dr = np.sort(dr)\n",
    "files = np.zeros(len(dr)).astype('str')\n",
    "for i in range(len(dr)):\n",
    "    files[i] = str(dr[i]) + '.wav'\n",
    "files"
   ]
  },
  {
   "cell_type": "code",
   "execution_count": null,
   "metadata": {},
   "outputs": [],
   "source": [
    "os.chdir('project directory')\n",
    "y = pd.read_csv('train.csv')\n",
    "y = y.values"
   ]
  },
  {
   "cell_type": "code",
   "execution_count": null,
   "metadata": {},
   "outputs": [],
   "source": [
    "os.chdir('path to wave files')\n",
    "for i in range(len(files)):\n",
    "    create_spectrogram(files[i], str(y[i, 0]))"
   ]
  },
  {
   "cell_type": "markdown",
   "metadata": {},
   "source": [
    "### Read spectrogram"
   ]
  },
  {
   "cell_type": "code",
   "execution_count": null,
   "metadata": {},
   "outputs": [],
   "source": [
    "mypath = \"path to folder with spectrograms\"\n",
    "dr = listdir(mypath)\n",
    "for i in range(len(dr)):\n",
    "    dr[i] = int(dr[i][:-6])\n",
    "dr = np.sort(dr)\n",
    "files = np.zeros(len(dr)).astype('str')\n",
    "for i in range(0,len(dr),4):\n",
    "    files[i] = str(dr[i]) + '_0.jpg'\n",
    "    files[i+1] = str(dr[i+1]) + '_1.jpg'\n",
    "    files[i+2] = str(dr[i+2]) + '_2.jpg'\n",
    "    files[i+3] = str(dr[i+3]) + '_3.jpg'\n",
    "files"
   ]
  },
  {
   "cell_type": "code",
   "execution_count": null,
   "metadata": {},
   "outputs": [],
   "source": [
    "X = get_spec(files)"
   ]
  },
  {
   "cell_type": "code",
   "execution_count": null,
   "metadata": {},
   "outputs": [],
   "source": [
    "X.nbytes / (2**10)**3"
   ]
  },
  {
   "cell_type": "code",
   "execution_count": null,
   "metadata": {},
   "outputs": [],
   "source": [
    "os.chdir('project directory')\n",
    "y_id = pd.read_csv(\"train.csv\")\n",
    "y_id = y_id.values[:, 1].astype('<U16')\n",
    "y_id = fit_y(y_id)"
   ]
  },
  {
   "cell_type": "code",
   "execution_count": null,
   "metadata": {},
   "outputs": [],
   "source": [
    "os.chdir('project directory')\n",
    "channel = 3\n",
    "lb = LabelBinarizer()\n",
    "y = lb.fit_transform(y_id)\n",
    "\n",
    "X_train, X_test, y_train, y_test = train_test_split(X, y, test_size = 0.2, random_state = 42)\n",
    "X_test, X_val, y_test, y_val = train_test_split(X_test, y_test, test_size = 0.33, random_state = 42)\n",
    "X_train = X_train.astype ('float32')\n",
    "X_test = X_test.astype ('float32')\n",
    "X_val = X_val.astype ('float32')\n",
    "X_train /= 255\n",
    "X_test /= 255\n",
    "X_val /= 255\n",
    "\n",
    "X_train = X_train.reshape (-1, input_size[0], input_size[1], channel)\n",
    "X_test = X_test.reshape (-1, input_size[0], input_size[1], channel)\n",
    "X_val = X_val.reshape (-1, input_size[0], input_size[1], channel)"
   ]
  },
  {
   "cell_type": "code",
   "execution_count": null,
   "metadata": {},
   "outputs": [],
   "source": [
    "show(X_train[8])"
   ]
  },
  {
   "cell_type": "markdown",
   "metadata": {},
   "source": [
    "# Deep Learning Model"
   ]
  },
  {
   "cell_type": "code",
   "execution_count": 44,
   "metadata": {},
   "outputs": [],
   "source": [
    "class DataGenerator(keras.utils.Sequence):\n",
    "    'Generates data for Keras'\n",
    "    def __init__(self, list_IDs, labels, batch_size = 40, dim = input_size, n_channels = 3,\n",
    "                 n_classes = 10, shuffle = True):\n",
    "        'Initialization'\n",
    "        self.dim = dim\n",
    "        self.batch_size = batch_size\n",
    "        self.labels = labels\n",
    "        self.list_IDs = list_IDs\n",
    "        self.n_channels = n_channels\n",
    "        self.n_classes = n_classes\n",
    "        self.shuffle = shuffle\n",
    "        self.on_epoch_end()\n",
    "\n",
    "    def __len__(self):\n",
    "        'Denotes the number of batches per epoch'\n",
    "        return int(np.floor(len(self.list_IDs) / self.batch_size))\n",
    "\n",
    "    def __getitem__(self, index):\n",
    "        'Generate one batch of data'\n",
    "        # Generate indexes of the batch\n",
    "        indexes = self.indexes[index*self.batch_size:(index+1)*self.batch_size]\n",
    "        # Find list of IDs\n",
    "        list_IDs_temp = [self.list_IDs[k] for k in indexes]\n",
    "        \n",
    "        # Generate data\n",
    "        X = self.__data_generation(list_IDs_temp)\n",
    "        \n",
    "        y = self.labels[indexes]\n",
    "        return X, y\n",
    "\n",
    "    def on_epoch_end(self):\n",
    "        'Updates indexes after each epoch'\n",
    "        self.indexes = np.arange(len(self.list_IDs))\n",
    "        if self.shuffle == True:\n",
    "            np.random.shuffle(self.indexes)\n",
    "\n",
    "    def __data_generation(self, list_IDs_temp):\n",
    "        'Generates data containing batch_size samples' # X : (n_samples, *dim, n_channels)\n",
    "        # Initialization\n",
    "        X = np.empty((self.batch_size, *self.dim, self.n_channels))\n",
    "        y = np.empty((self.batch_size), dtype=int)\n",
    "        \n",
    "        # Generate data\n",
    "        for i, ID in enumerate(list_IDs_temp):\n",
    "            # Store sample\n",
    "            image = cv2.imread('path to spectrograms' + ID)\n",
    "            #gray = cv2.cvtColor(image, cv2.COLOR_BGR2GRAY)\n",
    "            #X[i,] = gray.reshape((224,230,1))\n",
    "            X[i,] = image\n",
    "            X[i,] /= 255\n",
    "            \n",
    "        return X"
   ]
  },
  {
   "cell_type": "code",
   "execution_count": 47,
   "metadata": {},
   "outputs": [],
   "source": [
    "# Initialising the CNN\n",
    "n_labels = 10\n",
    "model = Sequential()\n",
    "chanDim = -1\n",
    "channel = 3\n",
    "#channel = 1 for grayscale\n",
    "\n",
    "# Layer 1\n",
    "model.add(Conv2D(32, (3, 3), padding = \"same\", input_shape = (input_size[0], input_size[1], channel)))\n",
    "model.add(Activation(\"relu\"))\n",
    "model.add(BatchNormalization(axis = chanDim))\n",
    "model.add(MaxPooling2D(pool_size = (3, 3)))\n",
    "model.add(Dropout(0.25))\n",
    "\n",
    "# (CONV => RELU) * 2 => POOL\n",
    "model.add(Conv2D(64, (3, 3), padding = \"same\"))\n",
    "model.add(Activation(\"relu\"))\n",
    "model.add(BatchNormalization(axis = chanDim))\n",
    "model.add(Conv2D(64, (3, 3), padding = \"same\"))\n",
    "model.add(Activation(\"relu\"))\n",
    "model.add(BatchNormalization(axis = chanDim))\n",
    "model.add(MaxPooling2D(pool_size = (2, 2)))\n",
    "model.add(Dropout(0.25))\n",
    "\n",
    "# (CONV => RELU) * 2 => POOL\n",
    "model.add(Conv2D(128, (3, 3), padding = \"same\"))\n",
    "model.add(Activation(\"relu\"))\n",
    "model.add(BatchNormalization(axis = chanDim))\n",
    "model.add(Conv2D(128, (3, 3), padding = \"same\"))\n",
    "model.add(Activation(\"relu\"))\n",
    "model.add(BatchNormalization(axis = chanDim))\n",
    "model.add(MaxPooling2D(pool_size = (2, 2)))\n",
    "model.add(Dropout(0.25))\n",
    "\n",
    "\n",
    "# (CONV => RELU) * 2 => POOL\n",
    "model.add(Conv2D(200, (3, 3), padding = \"same\"))\n",
    "model.add(Activation(\"relu\"))\n",
    "model.add(BatchNormalization(axis = chanDim))\n",
    "model.add(Conv2D(200, (3, 3), padding = \"same\"))\n",
    "model.add(Activation(\"relu\"))\n",
    "model.add(BatchNormalization(axis = chanDim))\n",
    "model.add(MaxPooling2D(pool_size = (2, 2)))\n",
    "model.add(Dropout(0.25))\n",
    "    \n",
    "# Step 3 - Flattening\n",
    "model.add(Flatten())\n",
    "\n",
    "# Step 4 - Full connection\n",
    "model.add(Dense(1024))\n",
    "model.add(Activation(\"relu\"))\n",
    "model.add(BatchNormalization())\n",
    "model.add(Dropout(0.5))\n",
    "\n",
    "model.add(Dense(n_labels))\n",
    "model.add(Activation(\"softmax\"))\n",
    "\n",
    "# Compiling the CNN\n",
    "EPOCHS = 50\n",
    "INIT_LR = 1e-3\n",
    "opt = Adam(lr = INIT_LR, decay = INIT_LR / EPOCHS)\n",
    "#opt = SGD(lr = 0.01, decay = 1e-8, momentum = 0.9, nesterov=True)\n",
    "model.compile(optimizer = opt, loss = \"categorical_crossentropy\", metrics = ['accuracy'])"
   ]
  },
  {
   "cell_type": "code",
   "execution_count": 8,
   "metadata": {},
   "outputs": [],
   "source": [
    "os.chdir('project directory')\n",
    "y_csv = pd.read_csv(\"train.csv\")\n",
    "l = y_csv.values[:, 1].astype('<U16')\n",
    "l = fit_y(l)"
   ]
  },
  {
   "cell_type": "code",
   "execution_count": 9,
   "metadata": {},
   "outputs": [
    {
     "data": {
      "text/plain": [
       "array([[0, 0, 0, ..., 0, 1, 0],\n",
       "       [0, 0, 0, ..., 0, 1, 0],\n",
       "       [0, 0, 0, ..., 0, 1, 0],\n",
       "       ...,\n",
       "       [1, 0, 0, ..., 0, 0, 0],\n",
       "       [1, 0, 0, ..., 0, 0, 0],\n",
       "       [1, 0, 0, ..., 0, 0, 0]])"
      ]
     },
     "execution_count": 9,
     "metadata": {},
     "output_type": "execute_result"
    }
   ],
   "source": [
    "lb = LabelBinarizer()\n",
    "y = lb.fit_transform(l)\n",
    "y"
   ]
  },
  {
   "cell_type": "code",
   "execution_count": 10,
   "metadata": {},
   "outputs": [
    {
     "data": {
      "text/plain": [
       "array(['0_0.jpg', '0_1.jpg', '0_2.jpg', ..., '8729_1.jpg', '8729_2.jpg',\n",
       "       '8729_3.jpg'], dtype='<U32')"
      ]
     },
     "execution_count": 10,
     "metadata": {},
     "output_type": "execute_result"
    }
   ],
   "source": [
    "from os import listdir\n",
    "mypath = \"path to spectrogram files\"\n",
    "dr = listdir(mypath)\n",
    "for i in range(len(dr)):\n",
    "    dr[i] = int(dr[i][:-6])\n",
    "dr = np.sort(dr)\n",
    "files = np.zeros(len(dr)).astype('str')\n",
    "for i in range(0,len(dr),4):\n",
    "    files[i] = str(dr[i]) + '_0.jpg'\n",
    "    files[i+1] = str(dr[i+1]) + '_1.jpg'\n",
    "    files[i+2] = str(dr[i+2]) + '_2.jpg'\n",
    "    files[i+3] = str(dr[i+3]) + '_3.jpg'\n",
    "files"
   ]
  },
  {
   "cell_type": "code",
   "execution_count": 11,
   "metadata": {},
   "outputs": [],
   "source": [
    "y_id = files"
   ]
  },
  {
   "cell_type": "code",
   "execution_count": 12,
   "metadata": {},
   "outputs": [],
   "source": [
    "train_id, test_id, train_label, test_label = train_test_split(y_id, y, test_size = 0.33, random_state = 42)"
   ]
  },
  {
   "cell_type": "code",
   "execution_count": 13,
   "metadata": {},
   "outputs": [],
   "source": [
    "training_generator = DataGenerator(train_id, train_label)\n",
    "validation_generator = DataGenerator(test_id, test_label)"
   ]
  },
  {
   "cell_type": "code",
   "execution_count": 14,
   "metadata": {},
   "outputs": [],
   "source": [
    "model_filename = 'cnnmodel.pkl' \n",
    "callbacks = [\n",
    "    EarlyStopping(monitor='val_acc',\n",
    "                  patience=10,\n",
    "                  verbose=1,\n",
    "                  mode='auto'),\n",
    "    \n",
    "    ModelCheckpoint(model_filename, monitor='val_acc',\n",
    "                    verbose=1,\n",
    "                    save_best_only=True,\n",
    "                    mode='auto'),\n",
    "]"
   ]
  },
  {
   "cell_type": "code",
   "execution_count": 15,
   "metadata": {
    "scrolled": true
   },
   "outputs": [
    {
     "name": "stdout",
     "output_type": "stream",
     "text": [
      "Epoch 1/50\n",
      "364/364 [==============================] - 87s 239ms/step - loss: 1.1452 - acc: 0.6411 - val_loss: 3.7233 - val_acc: 0.3990\n",
      "\n",
      "Epoch 00001: val_acc improved from -inf to 0.39902, saving model to cnnmodel_initSize_gengray.pkl\n",
      "Epoch 2/50\n",
      "364/364 [==============================] - 79s 218ms/step - loss: 0.6591 - acc: 0.7861 - val_loss: 1.3699 - val_acc: 0.6753\n",
      "\n",
      "Epoch 00002: val_acc improved from 0.39902 to 0.67528, saving model to cnnmodel_initSize_gengray.pkl\n",
      "Epoch 3/50\n",
      "364/364 [==============================] - 80s 219ms/step - loss: 0.4719 - acc: 0.8443 - val_loss: 1.1427 - val_acc: 0.7175\n",
      "\n",
      "Epoch 00003: val_acc improved from 0.67528 to 0.71746, saving model to cnnmodel_initSize_gengray.pkl\n",
      "Epoch 4/50\n",
      "364/364 [==============================] - 79s 218ms/step - loss: 0.4476 - acc: 0.8520 - val_loss: 1.6281 - val_acc: 0.5786\n",
      "\n",
      "Epoch 00004: val_acc did not improve from 0.71746\n",
      "Epoch 5/50\n",
      "364/364 [==============================] - 81s 224ms/step - loss: 0.2865 - acc: 0.9023 - val_loss: 0.5081 - val_acc: 0.8398\n",
      "\n",
      "Epoch 00005: val_acc improved from 0.71746 to 0.83980, saving model to cnnmodel_initSize_gengray.pkl\n",
      "Epoch 6/50\n",
      "364/364 [==============================] - 81s 224ms/step - loss: 0.1671 - acc: 0.9436 - val_loss: 0.2795 - val_acc: 0.9075\n",
      "\n",
      "Epoch 00006: val_acc improved from 0.83980 to 0.90754, saving model to cnnmodel_initSize_gengray.pkl\n",
      "Epoch 7/50\n",
      "364/364 [==============================] - 80s 221ms/step - loss: 0.1256 - acc: 0.9591 - val_loss: 0.5290 - val_acc: 0.8679\n",
      "\n",
      "Epoch 00007: val_acc did not improve from 0.90754\n",
      "Epoch 8/50\n",
      "364/364 [==============================] - 80s 220ms/step - loss: 0.1056 - acc: 0.9642 - val_loss: 0.1645 - val_acc: 0.9446\n",
      "\n",
      "Epoch 00008: val_acc improved from 0.90754 to 0.94455, saving model to cnnmodel_initSize_gengray.pkl\n",
      "Epoch 9/50\n",
      "364/364 [==============================] - 80s 220ms/step - loss: 0.0902 - acc: 0.9706 - val_loss: 0.7468 - val_acc: 0.8149\n",
      "\n",
      "Epoch 00009: val_acc did not improve from 0.94455\n",
      "Epoch 10/50\n",
      "364/364 [==============================] - 80s 220ms/step - loss: 0.1167 - acc: 0.9608 - val_loss: 0.1074 - val_acc: 0.9635\n",
      "\n",
      "Epoch 00010: val_acc improved from 0.94455 to 0.96355, saving model to cnnmodel_initSize_gengray.pkl\n",
      "Epoch 11/50\n",
      "364/364 [==============================] - 81s 222ms/step - loss: 0.1260 - acc: 0.9587 - val_loss: 0.2925 - val_acc: 0.9102\n",
      "\n",
      "Epoch 00011: val_acc did not improve from 0.96355\n",
      "Epoch 12/50\n",
      "364/364 [==============================] - 81s 222ms/step - loss: 0.1137 - acc: 0.9623 - val_loss: 0.2052 - val_acc: 0.9388\n",
      "\n",
      "Epoch 00012: val_acc did not improve from 0.96355\n",
      "Epoch 13/50\n",
      "364/364 [==============================] - 81s 223ms/step - loss: 0.1206 - acc: 0.9590 - val_loss: 0.2968 - val_acc: 0.9134\n",
      "\n",
      "Epoch 00013: val_acc did not improve from 0.96355\n",
      "Epoch 14/50\n",
      "364/364 [==============================] - 80s 220ms/step - loss: 0.0616 - acc: 0.9798 - val_loss: 0.2249 - val_acc: 0.9332\n",
      "\n",
      "Epoch 00014: val_acc did not improve from 0.96355\n",
      "Epoch 15/50\n",
      "364/364 [==============================] - 81s 224ms/step - loss: 0.0512 - acc: 0.9834 - val_loss: 0.3198 - val_acc: 0.9064\n",
      "\n",
      "Epoch 00015: val_acc did not improve from 0.96355\n",
      "Epoch 16/50\n",
      "364/364 [==============================] - 81s 221ms/step - loss: 0.1096 - acc: 0.9620 - val_loss: 0.1406 - val_acc: 0.9578\n",
      "\n",
      "Epoch 00016: val_acc did not improve from 0.96355\n",
      "Epoch 17/50\n",
      "364/364 [==============================] - 81s 223ms/step - loss: 0.1659 - acc: 0.9502 - val_loss: 0.1543 - val_acc: 0.9496\n",
      "\n",
      "Epoch 00017: val_acc did not improve from 0.96355\n",
      "Epoch 18/50\n",
      "364/364 [==============================] - 82s 225ms/step - loss: 0.0520 - acc: 0.9833 - val_loss: 0.1091 - val_acc: 0.9672\n",
      "\n",
      "Epoch 00018: val_acc improved from 0.96355 to 0.96718, saving model to cnnmodel_initSize_gengray.pkl\n",
      "Epoch 19/50\n",
      "364/364 [==============================] - 82s 224ms/step - loss: 0.0365 - acc: 0.9880 - val_loss: 0.0793 - val_acc: 0.9774\n",
      "\n",
      "Epoch 00019: val_acc improved from 0.96718 to 0.97737, saving model to cnnmodel_initSize_gengray.pkl\n",
      "Epoch 20/50\n",
      "364/364 [==============================] - 81s 223ms/step - loss: 0.0322 - acc: 0.9894 - val_loss: 0.0945 - val_acc: 0.9722\n",
      "\n",
      "Epoch 00020: val_acc did not improve from 0.97737\n",
      "Epoch 21/50\n",
      "364/364 [==============================] - 81s 224ms/step - loss: 0.0237 - acc: 0.9915 - val_loss: 0.1648 - val_acc: 0.9591\n",
      "\n",
      "Epoch 00021: val_acc did not improve from 0.97737\n",
      "Epoch 22/50\n",
      "364/364 [==============================] - 81s 222ms/step - loss: 0.0379 - acc: 0.9876 - val_loss: 0.0688 - val_acc: 0.9792\n",
      "\n",
      "Epoch 00022: val_acc improved from 0.97737 to 0.97919, saving model to cnnmodel_initSize_gengray.pkl\n",
      "Epoch 23/50\n",
      "364/364 [==============================] - 83s 228ms/step - loss: 0.0301 - acc: 0.9902 - val_loss: 0.0561 - val_acc: 0.9838\n",
      "\n",
      "Epoch 00023: val_acc improved from 0.97919 to 0.98380, saving model to cnnmodel_initSize_gengray.pkl\n",
      "Epoch 24/50\n",
      "364/364 [==============================] - 82s 226ms/step - loss: 0.0355 - acc: 0.9891 - val_loss: 0.0790 - val_acc: 0.9753\n",
      "\n",
      "Epoch 00024: val_acc did not improve from 0.98380\n",
      "Epoch 25/50\n",
      "364/364 [==============================] - 81s 223ms/step - loss: 0.0234 - acc: 0.9928 - val_loss: 0.1050 - val_acc: 0.9708\n",
      "\n",
      "Epoch 00025: val_acc did not improve from 0.98380\n",
      "Epoch 26/50\n",
      "364/364 [==============================] - 82s 224ms/step - loss: 0.0548 - acc: 0.9826 - val_loss: 0.2576 - val_acc: 0.9264\n",
      "\n",
      "Epoch 00026: val_acc did not improve from 0.98380\n",
      "Epoch 27/50\n",
      "364/364 [==============================] - 82s 225ms/step - loss: 0.0582 - acc: 0.9805 - val_loss: 0.1117 - val_acc: 0.9696\n",
      "\n",
      "Epoch 00027: val_acc did not improve from 0.98380\n",
      "Epoch 28/50\n",
      "364/364 [==============================] - 81s 223ms/step - loss: 0.0353 - acc: 0.9880 - val_loss: 1.0001 - val_acc: 0.8399\n",
      "\n",
      "Epoch 00028: val_acc did not improve from 0.98380\n",
      "Epoch 29/50\n",
      "364/364 [==============================] - 84s 231ms/step - loss: 0.0381 - acc: 0.9873 - val_loss: 0.1611 - val_acc: 0.9561\n",
      "\n",
      "Epoch 00029: val_acc did not improve from 0.98380\n",
      "Epoch 30/50\n",
      "364/364 [==============================] - 81s 222ms/step - loss: 0.0246 - acc: 0.9918 - val_loss: 0.1001 - val_acc: 0.9742\n",
      "\n",
      "Epoch 00030: val_acc did not improve from 0.98380\n",
      "Epoch 31/50\n",
      "364/364 [==============================] - 80s 220ms/step - loss: 0.0248 - acc: 0.9913 - val_loss: 0.1441 - val_acc: 0.9670\n",
      "\n",
      "Epoch 00031: val_acc did not improve from 0.98380\n",
      "Epoch 32/50\n",
      "364/364 [==============================] - 83s 229ms/step - loss: 0.0253 - acc: 0.9913 - val_loss: 0.1402 - val_acc: 0.9641\n",
      "\n",
      "Epoch 00032: val_acc did not improve from 0.98380\n",
      "Epoch 33/50\n",
      "364/364 [==============================] - 82s 224ms/step - loss: 0.0253 - acc: 0.9914 - val_loss: 0.1174 - val_acc: 0.9714\n",
      "\n",
      "Epoch 00033: val_acc did not improve from 0.98380\n",
      "Epoch 00033: early stopping\n"
     ]
    }
   ],
   "source": [
    "History = model.fit_generator(generator = training_generator,\n",
    "                                validation_data = validation_generator,\n",
    "                                epochs = 50,\n",
    "                                callbacks = callbacks,\n",
    "                                verbose = 1,\n",
    "                                shuffle = True)"
   ]
  },
  {
   "cell_type": "code",
   "execution_count": 48,
   "metadata": {},
   "outputs": [],
   "source": [
    "model.load_weights(\"model.h5\")"
   ]
  },
  {
   "cell_type": "code",
   "execution_count": null,
   "metadata": {},
   "outputs": [],
   "source": [
    "y_pred = np.round(model.predict(X_test))\n",
    "print(\"Accuracy:\", metrics.accuracy_score(y_test, y_pred))"
   ]
  },
  {
   "cell_type": "code",
   "execution_count": 40,
   "metadata": {},
   "outputs": [],
   "source": [
    "model.save_weights(\"model.h5\")"
   ]
  },
  {
   "cell_type": "code",
   "execution_count": 26,
   "metadata": {},
   "outputs": [
    {
     "name": "stdout",
     "output_type": "stream",
     "text": [
      "dict_keys(['val_loss', 'val_acc', 'loss', 'acc'])\n"
     ]
    }
   ],
   "source": [
    "print(History.history.keys())"
   ]
  },
  {
   "cell_type": "code",
   "execution_count": 41,
   "metadata": {},
   "outputs": [
    {
     "data": {
      "image/png": "[encoded data removed]",
      "text/plain": [
       "<Figure size 432x288 with 1 Axes>"
      ]
     },
     "metadata": {},
     "output_type": "display_data"
    },
    {
     "data": {
      "image/png": "[encoded data removed]",
      "text/plain": [
       "<Figure size 432x288 with 1 Axes>"
      ]
     },
     "metadata": {},
     "output_type": "display_data"
    }
   ],
   "source": [
    "plt.plot(History.history['acc'])\n",
    "plt.plot(History.history['val_acc'])\n",
    "plt.title('model accuracy')\n",
    "plt.ylabel('accuracy')\n",
    "plt.xlabel('epoch')\n",
    "plt.legend(['train', 'test'], loc='upper left')\n",
    "plt.show()\n",
    "# summarize history for loss\n",
    "plt.plot(History.history['loss'])\n",
    "plt.plot(History.history['val_loss'])\n",
    "plt.title('model loss')\n",
    "plt.ylabel('loss')\n",
    "plt.xlabel('epoch')\n",
    "plt.legend(['train', 'test'], loc='upper left')\n",
    "plt.show()"
   ]
  },
  {
   "cell_type": "code",
   "execution_count": null,
   "metadata": {},
   "outputs": [],
   "source": []
  }
 ],
 "metadata": {
  "kernelspec": {
   "display_name": "Python 3",
   "language": "python",
   "name": "python3"
  },
  "language_info": {
   "codemirror_mode": {
    "name": "ipython",
    "version": 3
   },
   "file_extension": ".py",
   "mimetype": "text/x-python",
   "name": "python",
   "nbconvert_exporter": "python",
   "pygments_lexer": "ipython3",
   "version": "3.7.3"
  },
  "pycharm": {
   "stem_cell": {
    "cell_type": "raw",
    "source": [],
    "metadata": {
     "collapsed": false
    }
   }
  }
 },
 "nbformat": 4,
 "nbformat_minor": 2
}
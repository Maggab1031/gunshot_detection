{
 "cells": [
  {
   "cell_type": "markdown",
   "metadata": {},
   "source": [
    "## Package Imports"
   ]
  },
  {
   "cell_type": "code",
   "execution_count": 1,
   "metadata": {},
   "outputs": [],
   "source": [
    "import wave\n",
    "import sounddevice as sd"
   ]
  },
  {
   "cell_type": "markdown",
   "metadata": {},
   "source": [
    "## Variable Initializations"
   ]
  },
  {
   "cell_type": "code",
   "execution_count": 12,
   "metadata": {},
   "outputs": [],
   "source": [
    "sample_rate = 44100\n",
    "sample_duration = 5\n",
    "number_of_channels = 1\n",
    "sd.default.device = 0\n",
    "sd.default.samplerate = sample_rate\n",
    "sd.default.channels = number_of_channels"
   ]
  },
  {
   "cell_type": "markdown",
   "metadata": {},
   "source": [
    "## Processing Microphone Audio"
   ]
  },
  {
   "cell_type": "code",
   "execution_count": 13,
   "metadata": {},
   "outputs": [
    {
     "name": "stdout",
     "output_type": "stream",
     "text": [
      "Now recording audio...\n",
      "Finished recording audio...\n",
      "[[-0.86589766]\n",
      " [-0.8996134 ]\n",
      " [-0.87296724]\n",
      " ...\n",
      " [-0.00871801]\n",
      " [-0.00850868]\n",
      " [-0.00887489]]\n"
     ]
    }
   ],
   "source": [
    "print(\"Now recording audio...\")\n",
    "\n",
    "sound_data_array = sd.rec(int(sample_duration * sample_rate))\n",
    "sd.wait()\n",
    "\n",
    "print(sound_data_array)\n",
    "print(\"Finished recording audio...\")\n",
    "\n",
    "# Saves the audio frames as a WAV file\n",
    "wavefile = wave.open(\"test\",'wb')\n",
    "wavefile.setnchannels(number_of_channels)\n",
    "wavefile.setsampwidth(4)\n",
    "wavefile.setframerate(sample_rate)\n",
    "wavefile.writeframes(b''.join(sound_data_array))\n",
    "wavefile.close()"
   ]
  },
  {
   "cell_type": "code",
   "execution_count": null,
   "metadata": {},
   "outputs": [],
   "source": []
  }
 ],
 "metadata": {
  "kernelspec": {
   "display_name": "Python 3",
   "language": "python",
   "name": "python3"
  },
  "language_info": {
   "codemirror_mode": {
    "name": "ipython",
    "version": 3
   },
   "file_extension": ".py",
   "mimetype": "text/x-python",
   "name": "python",
   "nbconvert_exporter": "python",
   "pygments_lexer": "ipython3",
   "version": "3.7.3"
  }
 },
 "nbformat": 4,
 "nbformat_minor": 2
}
